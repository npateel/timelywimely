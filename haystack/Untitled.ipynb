{
 "cells": [
  {
   "cell_type": "code",
   "execution_count": 1,
   "id": "union-stranger",
   "metadata": {},
   "outputs": [
    {
     "name": "stderr",
     "output_type": "stream",
     "text": [
      "/home/npateel/anaconda3/lib/python3.8/site-packages/ray/autoscaler/_private/cli_logger.py:57: FutureWarning: Not all Ray CLI dependencies were found. In Ray 1.4+, the Ray CLI, autoscaler, and dashboard will only be usable via `pip install 'ray[default]'`. Please update your install command.\n",
      "  warnings.warn(\n"
     ]
    },
    {
     "ename": "ImportError",
     "evalue": "cannot import name 'clean_wiki_text' from 'haystack.utils' (/home/npateel/anaconda3/lib/python3.8/site-packages/haystack/utils.py)",
     "output_type": "error",
     "traceback": [
      "\u001b[0;31m---------------------------------------------------------------------------\u001b[0m",
      "\u001b[0;31mImportError\u001b[0m                               Traceback (most recent call last)",
      "\u001b[0;32m<ipython-input-1-e0c03e8c787f>\u001b[0m in \u001b[0;36m<module>\u001b[0;34m\u001b[0m\n\u001b[1;32m     17\u001b[0m \u001b[0;32mfrom\u001b[0m \u001b[0mhaystack\u001b[0m\u001b[0;34m.\u001b[0m\u001b[0mreader\u001b[0m \u001b[0;32mimport\u001b[0m \u001b[0mFARMReader\u001b[0m\u001b[0;34m\u001b[0m\u001b[0;34m\u001b[0m\u001b[0m\n\u001b[1;32m     18\u001b[0m \u001b[0;32mfrom\u001b[0m \u001b[0mhaystack\u001b[0m\u001b[0;34m.\u001b[0m\u001b[0mretriever\u001b[0m\u001b[0;34m.\u001b[0m\u001b[0mdense\u001b[0m \u001b[0;32mimport\u001b[0m \u001b[0mDensePassageRetriever\u001b[0m\u001b[0;34m\u001b[0m\u001b[0;34m\u001b[0m\u001b[0m\n\u001b[0;32m---> 19\u001b[0;31m \u001b[0;32mfrom\u001b[0m \u001b[0mhaystack\u001b[0m\u001b[0;34m.\u001b[0m\u001b[0mutils\u001b[0m \u001b[0;32mimport\u001b[0m \u001b[0mclean_wiki_text\u001b[0m\u001b[0;34m,\u001b[0m \u001b[0mconvert_files_to_dicts\u001b[0m\u001b[0;34m,\u001b[0m \u001b[0mfetch_archive_from_http\u001b[0m\u001b[0;34m,\u001b[0m \u001b[0mprint_answers\u001b[0m\u001b[0;34m\u001b[0m\u001b[0;34m\u001b[0m\u001b[0m\n\u001b[0m\u001b[1;32m     20\u001b[0m \u001b[0;32mfrom\u001b[0m \u001b[0mhaystack\u001b[0m\u001b[0;34m.\u001b[0m\u001b[0mnodes\u001b[0m \u001b[0;32mimport\u001b[0m \u001b[0mFARMReader\u001b[0m\u001b[0;34m,\u001b[0m \u001b[0mTransformersReader\u001b[0m\u001b[0;34m\u001b[0m\u001b[0;34m\u001b[0m\u001b[0m\n\u001b[1;32m     21\u001b[0m \u001b[0;34m\u001b[0m\u001b[0m\n",
      "\u001b[0;31mImportError\u001b[0m: cannot import name 'clean_wiki_text' from 'haystack.utils' (/home/npateel/anaconda3/lib/python3.8/site-packages/haystack/utils.py)"
     ]
    }
   ],
   "source": [
    "import ast\n",
    "import glob\n",
    "import gzip\n",
    "import json\n",
    "import os\n",
    "import sys\n",
    "from multiprocessing import Pool\n",
    "\n",
    "import pandas as pd\n",
    "from nltk.translate.bleu_score import sentence_bleu\n",
    "from tqdm import tqdm\n",
    "\n",
    "import process\n",
    "import testing\n",
    "from haystack import Pipeline\n",
    "from haystack.document_store import FAISSDocumentStore\n",
    "from haystack.reader import FARMReader\n",
    "from haystack.retriever.dense import DensePassageRetriever\n",
    "from haystack.utils import clean_wiki_text, convert_files_to_dicts, fetch_archive_from_http, print_answers\n",
    "from haystack.nodes import FARMReader, TransformersReader\n",
    "\n"
   ]
  },
  {
   "cell_type": "code",
   "execution_count": 2,
   "id": "statutory-tuition",
   "metadata": {},
   "outputs": [
    {
     "ename": "NameError",
     "evalue": "name 'os' is not defined",
     "output_type": "error",
     "traceback": [
      "\u001b[0;31m---------------------------------------------------------------------------\u001b[0m",
      "\u001b[0;31mNameError\u001b[0m                                 Traceback (most recent call last)",
      "\u001b[0;32m<ipython-input-2-c85c8cff5bfa>\u001b[0m in \u001b[0;36m<module>\u001b[0;34m\u001b[0m\n\u001b[1;32m      2\u001b[0m \u001b[0mdataset\u001b[0m \u001b[0;34m=\u001b[0m \u001b[0;34m\"nq_smaller.json\"\u001b[0m\u001b[0;34m\u001b[0m\u001b[0;34m\u001b[0m\u001b[0m\n\u001b[1;32m      3\u001b[0m \u001b[0moutput_path\u001b[0m \u001b[0;34m=\u001b[0m \u001b[0;34m\"hi.json\"\u001b[0m\u001b[0;34m\u001b[0m\u001b[0;34m\u001b[0m\u001b[0m\n\u001b[0;32m----> 4\u001b[0;31m \u001b[0mfaiss\u001b[0m \u001b[0;34m=\u001b[0m \u001b[0mos\u001b[0m\u001b[0;34m.\u001b[0m\u001b[0mpath\u001b[0m\u001b[0;34m.\u001b[0m\u001b[0mjoin\u001b[0m\u001b[0;34m(\u001b[0m\u001b[0myear\u001b[0m\u001b[0;34m,\u001b[0m \u001b[0;34m'wiki_dump_embeddings.faiss'\u001b[0m\u001b[0;34m)\u001b[0m\u001b[0;34m\u001b[0m\u001b[0;34m\u001b[0m\u001b[0m\n\u001b[0m\u001b[1;32m      5\u001b[0m \u001b[0msql_url\u001b[0m \u001b[0;34m=\u001b[0m \u001b[0;34m'sqlite:///'\u001b[0m \u001b[0;34m+\u001b[0m \u001b[0mos\u001b[0m\u001b[0;34m.\u001b[0m\u001b[0mpath\u001b[0m\u001b[0;34m.\u001b[0m\u001b[0mjoin\u001b[0m\u001b[0;34m(\u001b[0m\u001b[0myear\u001b[0m\u001b[0;34m,\u001b[0m \u001b[0;34m'faiss_document_store.db'\u001b[0m\u001b[0;34m)\u001b[0m\u001b[0;34m\u001b[0m\u001b[0;34m\u001b[0m\u001b[0m\n\u001b[1;32m      6\u001b[0m \u001b[0;34m\u001b[0m\u001b[0m\n",
      "\u001b[0;31mNameError\u001b[0m: name 'os' is not defined"
     ]
    }
   ],
   "source": [
    "year = \"2008\"\n",
    "dataset = \"nq_smaller.json\"\n",
    "output_path = \"hi.json\"\n",
    "faiss = os.path.join(year, 'wiki_dump_embeddings.faiss')\n",
    "sql_url = 'sqlite:///' + os.path.join(year, 'faiss_document_store.db')\n",
    "\n",
    "document_store = FAISSDocumentStore.load(faiss,\n",
    "                                         sql_url=sql_url,\n",
    "                                         index='document')\n",
    "print(\"Loaded document store\")\n",
    "retriever = DensePassageRetriever(\n",
    "    document_store=document_store,\n",
    "    query_embedding_model=\"facebook/dpr-question_encoder-single-nq-base\",\n",
    "    passage_embedding_model=\"facebook/dpr-ctx_encoder-single-nq-base\",\n",
    "    use_gpu=True,\n",
    "    batch_size=64,\n",
    "    embed_title=True)\n",
    "\n",
    "print(\"Loaded retriever\")\n",
    "reader = FARMReader(model_name_or_path=\"deepset/roberta-base-squad2\",\n",
    "                    use_gpu=True,\n",
    "                    no_ans_boost=-10,\n",
    "                    context_window_size=500,\n",
    "                    top_k_per_candidate=3,\n",
    "                    top_k_per_sample=1,\n",
    "                    num_processes=1,\n",
    "                    max_seq_len=256,\n",
    "                    doc_stride=128,\n",
    "                    progress_bar=False)\n",
    "print(\"Loaded reader\")\n",
    "\n",
    "p = ExtractiveQAPipeline(reader, retriever)\n",
    "# p.add_node(component=retriever, name=\"ESRetriever1\", inputs=[\"Query\"])\n",
    "# p.add_node(component=reader, name=\"QAReader\", inputs=[\"ESRetriever1\"])\n"
   ]
  },
  {
   "cell_type": "code",
   "execution_count": 24,
   "id": "official-translation",
   "metadata": {},
   "outputs": [
    {
     "data": {
      "text/plain": [
       "['__annotations__',\n",
       " '__class__',\n",
       " '__delattr__',\n",
       " '__dict__',\n",
       " '__dir__',\n",
       " '__doc__',\n",
       " '__eq__',\n",
       " '__format__',\n",
       " '__ge__',\n",
       " '__getattribute__',\n",
       " '__gt__',\n",
       " '__hash__',\n",
       " '__init__',\n",
       " '__init_subclass__',\n",
       " '__le__',\n",
       " '__lt__',\n",
       " '__module__',\n",
       " '__ne__',\n",
       " '__new__',\n",
       " '__reduce__',\n",
       " '__reduce_ex__',\n",
       " '__repr__',\n",
       " '__setattr__',\n",
       " '__sizeof__',\n",
       " '__str__',\n",
       " '__subclasshook__',\n",
       " '__weakref__',\n",
       " '_dispatch_run',\n",
       " '_get_predictions',\n",
       " 'batch_size',\n",
       " 'devices',\n",
       " 'document_store',\n",
       " 'embed_passages',\n",
       " 'embed_queries',\n",
       " 'eval',\n",
       " 'get_subclass',\n",
       " 'index_count',\n",
       " 'index_time',\n",
       " 'infer_tokenizer_classes',\n",
       " 'load',\n",
       " 'load_from_args',\n",
       " 'load_from_pipeline_config',\n",
       " 'model',\n",
       " 'name',\n",
       " 'outgoing_edges',\n",
       " 'passage_encoder',\n",
       " 'passage_tokenizer',\n",
       " 'pipeline_config',\n",
       " 'print_time',\n",
       " 'processor',\n",
       " 'progress_bar',\n",
       " 'query_count',\n",
       " 'query_encoder',\n",
       " 'query_time',\n",
       " 'query_tokenizer',\n",
       " 'retrieve',\n",
       " 'retrieve_time',\n",
       " 'run',\n",
       " 'run_indexing',\n",
       " 'run_query',\n",
       " 'save',\n",
       " 'set_config',\n",
       " 'subclasses',\n",
       " 'timing',\n",
       " 'top_k',\n",
       " 'train']"
      ]
     },
     "execution_count": 24,
     "metadata": {},
     "output_type": "execute_result"
    }
   ],
   "source": [
    "dir(retriever)"
   ]
  },
  {
   "cell_type": "code",
   "execution_count": 25,
   "id": "cathedral-trinidad",
   "metadata": {},
   "outputs": [
    {
     "name": "stdout",
     "output_type": "stream",
     "text": [
      "{'text': \"Petersville Australia Limited was an Australian public company which specialized in food product manufacture, distribution and marketing until its takeover by Adelaide Steamship Company in the 1980s.\\nPetersville was noted for establishing Peters Ice Cream in the 1930s by its founder Fred Peters. It diversified into all areas of dairy food manufacture by the 1960s. It merged with H.C. Sleigh Co. in the 1970s. After its takeover by Adelaide Steamship, Petersville's divisions were broken up, notably the ice cream division was sold to the Swiss international food giant Nestlé.\\nSome of the foods it produced or distributed were: ice cream, yoghurt, cheese, butter and imported cheeses. Its head office (now Nestle Australia's) was in Wellington Road, Mulgrave, Victoria, Australia.\\nPetersville had Dairy production plants at Warragul, Trafalgar and Yarragon in Victoria and at Orange, Taree and Grafton in New South Wales.\", 'score': None, 'question': None, 'meta': {'vector_id': '0', 'name': 'Petersville', 'url': 'http://en.wikipedia.org/wiki?curid=603894'}, 'embedding': None, 'id': '10000e28face1c769ca317299586f062'}\n"
     ]
    }
   ],
   "source": [
    "x = retriever.document_store.get_all_documents_generator()\n",
    "print(next(x))"
   ]
  },
  {
   "cell_type": "code",
   "execution_count": 44,
   "id": "discrete-probability",
   "metadata": {},
   "outputs": [
    {
     "data": {
      "text/plain": [
       "{'text': 'Judy Bernly was a fictional character in the movie Nine to Five as well as the short-lived television series of the same name. In the movie, she was played by Jane Fonda and in the television series, she was played by Valerie Curtin. Ironically, Jane Fonda also helped produce the early seasons of the TV series, and played a security guard, named O\\'Neill, as well. \\nCharacter.\\nA college graduate, Judy Bernly was also a recent divorcee, her husband, Dick Radman (Lawrence Pressman), had divorced her after he had an affair with his secretary, Liza; and having just moved to a new apartment, desperately needed a job. She joined Consolidated Companies working in the same section as Violet Newstead (Lily Tomlin) who became one of her best friends. She also made friends with several of her office mates, namely a nice woman in her section named Maria Del Gado, who helped her get used to the harshness of office life.\\nAt first, she wasn\\'t used to being around Doralee Rhodes (Dolly Parton), the secretary of her boss, Franklin Hart, Jr (Dabney Coleman), because of what was rumored that she had been doing, because it reminded her all too clearly about Dick and Liza, but in time, she became a friend to her as well. The tyrannical Hart, however, scared Judy to death, ranting and raving at her for what he thought was not handling a copier properly. \\nLater, during a pot party at Doralee\\'s house, she thought of doing him in, in the style of a big game hunter, after he fired her friend Maria for what seemed to be a real petty reason. She had talked about how low she (Maria) had been paid, and made estimates of both Hart\\'s salary and Rosalind \"Roz\" Keith\\'s (Elizabeth Wilson) salary, which, supposedly, was much higher.\\nShe helped Violet and Doralee try to prove embezzlement charges against her boss, while at the same time, her husband tried to get her back, but he failed, after they had a very huge argument and the newly empowered Judy told him \"Hit the road, Buster, this is where you get off!\"\\nAt the film\\'s end, Judy became one of the three bosses, after Hart had been reassigned to Brazil, and she fell in love and married the Xerox representative. As played by Valerie Curtin, Judy was a bit more scatterbrained and somewhat klutzy.', 'score': None, 'question': None, 'meta': {'vector_id': '19', 'name': 'Judy Bernly', 'url': 'http://en.wikipedia.org/wiki?curid=4400915'}, 'embedding': None, 'id': '10009273ba3b288632acd75cc83ace07'}"
      ]
     },
     "execution_count": 44,
     "metadata": {},
     "output_type": "execute_result"
    }
   ],
   "source": [
    "next(x)"
   ]
  },
  {
   "cell_type": "code",
   "execution_count": null,
   "id": "sporting-tragedy",
   "metadata": {},
   "outputs": [],
   "source": []
  }
 ],
 "metadata": {
  "kernelspec": {
   "display_name": "Python 3 (ipykernel)",
   "language": "python",
   "name": "python3"
  },
  "language_info": {
   "codemirror_mode": {
    "name": "ipython",
    "version": 3
   },
   "file_extension": ".py",
   "mimetype": "text/x-python",
   "name": "python",
   "nbconvert_exporter": "python",
   "pygments_lexer": "ipython3",
   "version": "3.8.5"
  }
 },
 "nbformat": 4,
 "nbformat_minor": 5
}
