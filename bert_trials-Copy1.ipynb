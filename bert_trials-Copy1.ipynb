{
 "cells": [
  {
   "cell_type": "code",
   "execution_count": 294,
   "metadata": {},
   "outputs": [],
   "source": [
    "import sys\n",
    "from bert import QA\n",
    "import gzip\n",
    "from tqdm import tqdm\n",
    "import json\n",
    "# import spacy\n",
    "# from spacy.symbols import ORTH\n",
    "# import en_core_web_sm\n",
    "# nlp = en_core_web_sm.load()\n",
    "from fuzzywuzzy import fuzz\n",
    "import pandas as pd\n",
    "pd.set_option('display.max_rows', 500)\n",
    "pd.set_option('display.max_colwidth', None)\n",
    "from bs4 import BeautifulSoup"
   ]
  },
  {
   "cell_type": "code",
   "execution_count": null,
   "metadata": {},
   "outputs": [],
   "source": [
    "# https://github.com/kamalkraj/BERT-SQuAD"
   ]
  },
  {
   "cell_type": "code",
   "execution_count": 3,
   "metadata": {},
   "outputs": [],
   "source": [
    "model = QA('model')\n",
    "\n",
    "doc = \"Victoria has a written constitution enacted in 1975, but based on the 1855 colonial constitution, passed by the United Kingdom Parliament as the Victoria Constitution Act 1855, which establishes the Parliament as the state's law-making body for matters coming under state responsibility. The Victorian Constitution can be amended by the Parliament of Victoria, except for certain 'entrenched' provisions that require either an absolute majority in both houses, a three-fifths majority in both houses, or the approval of the Victorian people in a referendum, depending on the provision.\"\n",
    "\n",
    "q = 'When did Victoria enact its constitution?'\n",
    "\n",
    "answer = model.predict(doc,q)\n"
   ]
  },
  {
   "cell_type": "code",
   "execution_count": 4,
   "metadata": {},
   "outputs": [
    {
     "data": {
      "text/plain": [
       "'1975'"
      ]
     },
     "execution_count": 4,
     "metadata": {},
     "output_type": "execute_result"
    }
   ],
   "source": [
    "answer['answer']"
   ]
  },
  {
   "cell_type": "code",
   "execution_count": 1,
   "metadata": {},
   "outputs": [
    {
     "name": "stderr",
     "output_type": "stream",
     "text": [
      "7830it [00:33, 234.70it/s]\n"
     ]
    }
   ],
   "source": [
    "import gzip\n",
    "from tqdm import tqdm\n",
    "import json\n",
    "i = 0\n",
    "list_of_q = []\n",
    "# with gzip.open('../tiny-dev/nq-dev-sample.jsonl.gz') as f:\n",
    "with gzip.open('v1.0-simplified_nq-dev-all.jsonl.gz') as f:\n",
    "    for line in tqdm(f):\n",
    "        list_of_q.append(line)\n",
    "        i += 1"
   ]
  },
  {
   "cell_type": "code",
   "execution_count": 29,
   "metadata": {},
   "outputs": [],
   "source": [
    "import json\n",
    "l = list_of_q[20]\n",
    "x = json.loads(l)"
   ]
  },
  {
   "cell_type": "code",
   "execution_count": 32,
   "metadata": {},
   "outputs": [
    {
     "data": {
      "text/plain": [
       "dict_keys(['annotations', 'document_html', 'document_title', 'document_tokens', 'document_url', 'example_id', 'long_answer_candidates', 'question_text', 'question_tokens'])"
      ]
     },
     "execution_count": 32,
     "metadata": {},
     "output_type": "execute_result"
    }
   ],
   "source": [
    "x.keys()"
   ]
  },
  {
   "cell_type": "code",
   "execution_count": 30,
   "metadata": {},
   "outputs": [
    {
     "data": {
      "text/plain": [
       "'World_Economic_Forum'"
      ]
     },
     "execution_count": 30,
     "metadata": {},
     "output_type": "execute_result"
    }
   ],
   "source": [
    "x[\"document_url\"][x[\"document_url\"].index(\"title\")+6:x[\"document_url\"].index(\"&amp\")]"
   ]
  },
  {
   "cell_type": "code",
   "execution_count": 42,
   "metadata": {},
   "outputs": [],
   "source": [
    "from datetime import date\n",
    "str(date.today())\n",
    "\n",
    "import pandas as pd"
   ]
  },
  {
   "cell_type": "code",
   "execution_count": 45,
   "metadata": {},
   "outputs": [
    {
     "data": {
      "text/plain": [
       "[4, 'happy ', 3]"
      ]
     },
     "execution_count": 45,
     "metadata": {},
     "output_type": "execute_result"
    }
   ],
   "source": [
    "ret = [\"\", 3]\n",
    "i = \"happy\"\n",
    "if i not in ret[0]:\n",
    "    ret[0] = ret[0] + i + \" \"\n",
    "ret.insert(0, 4)\n",
    "ret"
   ]
  },
  {
   "cell_type": "code",
   "execution_count": null,
   "metadata": {},
   "outputs": [],
   "source": [
    "rows = []\n",
    "for q in list_of_q:\n",
    "    row, cols = get_all_revs(q)\n",
    "    rows.append(row)\n",
    "    \n",
    "scoress = pd.DataFrame(rows, columns = cols).sort_values(['Overall Avg'], ascending = False)\n",
    "scoress\n",
    "# get \"correct\" one too "
   ]
  },
  {
   "cell_type": "code",
   "execution_count": null,
   "metadata": {},
   "outputs": [],
   "source": [
    "def get_all_revs(question):\n",
    "    compares = {}\n",
    "    x = json.loads(question)\n",
    "    sa = get_short_answers(x)\n",
    "    qtext = x[\"question_text\"]\n",
    "    title = x[\"document_url\"][x[\"document_url\"].index(\"title\")+6:x[\"document_url\"].index(\"&amp\")]\n",
    "    dates = [date.fromisoformat('2013-01-01'), date.fromisoformat('2017-01-01'), date.today()]\n",
    "    ret = [\"\", qtext]\n",
    "    col_names = [\"GT Answers\", \"Question\"]\n",
    "    all_avg = 0\n",
    "    for date in dates:\n",
    "        doctext, _ = get_wikipedia_revision(title, date, sa)\n",
    "        avg = 0\n",
    "        ans = \"No Edit\"\n",
    "        if doctext not None:\n",
    "            avg, sets, sort, _, ans, pred, _ = compare(qtext, doctext) #['Average Score', 'Set Score', 'Sort Score','Question', 'Answer', 'Predicted', 'Length of Text'])\n",
    "            if pred not in ret[0]:\n",
    "                ret[0] = ret[0] + pred + \" \"\n",
    "        ret.append(avg, ans)\n",
    "        all_avg += avg\n",
    "        col_names.append(\"Avg Score: \" + str(date))\n",
    "        col_names.append(\"Answer: \" + str(date))\n",
    "        \n",
    "    ret.insert(0, all_avg/3)\n",
    "    col_names.insert(0, \"Overall Avg\")\n",
    "    return vals, col_names\n",
    "\n",
    "\n",
    "def compare(qtext, doctext, short_answers):\n",
    "\n",
    "    question_text = qtext\n",
    "    doc = doctext\n",
    "    q = question_text\n",
    "    answer = model.predict(doc,q)\n",
    "    if display:\n",
    "        print('Predicted Answer: ', answer['answer'])\n",
    "    \n",
    "    set_scores = []\n",
    "    sort_scores = []\n",
    "    all_avg_scores = []\n",
    "    for sa in short_answers:\n",
    "        token_set_ratio = fuzz.token_set_ratio(sa, answer['answer'])\n",
    "        token_sort_ratio = fuzz.token_sort_ratio(sa, answer['answer'])\n",
    "        avg_score = (token_set_ratio + token_sort_ratio) / 2\n",
    "        if display:\n",
    "            print('Correct Answer: ', sa)\n",
    "            print('Fuzzy score: ', avg_score)\n",
    "        set_scores.append(token_set_ratio)\n",
    "        sort_scores.append(token_sort_ratio)\n",
    "        all_avg_scores.append(avg_score)\n",
    "    max_index = all_avg_scores.index(max(all_avg_scores))\n",
    "    return (max(all_avg_scores), max(set_scores), max(sort_scores), question_text, list(short_answers)[max_index], answer['answer'], len(document_text))"
   ]
  },
  {
   "cell_type": "code",
   "execution_count": 31,
   "metadata": {},
   "outputs": [
    {
     "data": {
      "text/plain": [
       "'https://en.wikipedia.org//w/index.php?title=World_Economic_Forum&amp;oldid=833924980'"
      ]
     },
     "execution_count": 31,
     "metadata": {},
     "output_type": "execute_result"
    }
   ],
   "source": [
    "x[\"document_url\"]"
   ]
  },
  {
   "cell_type": "code",
   "execution_count": 265,
   "metadata": {},
   "outputs": [],
   "source": [
    "def get_answers(question):\n",
    "    answers = []\n",
    "    for c in question['long_answer_candidates']:\n",
    "        start_token = c['start_token']\n",
    "        end_token = c['end_token']\n",
    "        print(start_token, end_token)\n",
    "        a = \" \".join(t['token'] for t in question['document_tokens'][start_token:end_token]if not t['html_token'])\n",
    "        answers.append(a)\n",
    "    return answers\n",
    "\n",
    "\n",
    "def get_tokens(question):\n",
    "    answers = []\n",
    "    for c in question['long_answer_candidates']:\n",
    "        start_token = c['start_token']\n",
    "        end_token = c['end_token']\n",
    "        answers.append((start_token, end_token, len(question['document_tokens'])))\n",
    "    return answers   \n",
    "\n",
    "\n",
    "\n",
    "def get_short_answers(question):\n",
    "    answers = []\n",
    "    for annotation in question['annotations']:\n",
    "        if len(annotation['short_answers']) != 0:\n",
    "            short_answer = annotation['short_answers'][0]\n",
    "#             print(short_answer)\n",
    "            start_token = short_answer['start_token']\n",
    "            end_token = short_answer['end_token']\n",
    "#             print(question['document_tokens'][start_token:end_token])\n",
    "            a = \" \".join(t['token'] for t in question['document_tokens'][start_token:end_token])\n",
    "            answers.append(a)\n",
    "#         else:\n",
    "#             print('No short answers found in annotation.')\n",
    "            \n",
    "    return set(answers)"
   ]
  },
  {
   "cell_type": "code",
   "execution_count": 266,
   "metadata": {
    "scrolled": false
   },
   "outputs": [
    {
     "name": "stdout",
     "output_type": "stream",
     "text": [
      "Question:  what’s the difference between downhill and super g\n"
     ]
    },
    {
     "data": {
      "text/plain": [
       "set()"
      ]
     },
     "execution_count": 266,
     "metadata": {},
     "output_type": "execute_result"
    }
   ],
   "source": [
    "print('Question: ' , x['question_text'])\n",
    "# print(x.keys())\n",
    "# print(x['long_answer_candidates'][0])\n",
    "# print(get_answers(x))\n",
    "short_answers = get_short_answers(x)\n",
    "short_answers"
   ]
  },
  {
   "cell_type": "code",
   "execution_count": 267,
   "metadata": {},
   "outputs": [],
   "source": [
    "document_text = \" \".join(t['token'] for t in x['document_tokens'])\n"
   ]
  },
  {
   "cell_type": "code",
   "execution_count": 268,
   "metadata": {},
   "outputs": [
    {
     "data": {
      "text/plain": [
       "'what’s the difference between downhill and super g'"
      ]
     },
     "execution_count": 268,
     "metadata": {},
     "output_type": "execute_result"
    }
   ],
   "source": [
    "question_text = x['question_text']\n",
    "question_text"
   ]
  },
  {
   "cell_type": "code",
   "execution_count": 269,
   "metadata": {},
   "outputs": [],
   "source": [
    "doc = document_text\n",
    "q = question_text\n",
    "\n",
    "answer = model.predict(doc,q)"
   ]
  },
  {
   "cell_type": "code",
   "execution_count": 270,
   "metadata": {},
   "outputs": [
    {
     "data": {
      "text/plain": [
       "'super-G course consists of widely set gates that racers must pass through'"
      ]
     },
     "execution_count": 270,
     "metadata": {},
     "output_type": "execute_result"
    }
   ],
   "source": [
    "answer['answer']"
   ]
  },
  {
   "cell_type": "code",
   "execution_count": 272,
   "metadata": {},
   "outputs": [],
   "source": [
    "# check how many have no short answers\n",
    "ind = []\n",
    "for i in range(len(list_of_q)):\n",
    "    l = list_of_q[i]\n",
    "    x = json.loads(l)\n",
    "    short_ans = get_short_answers(x)\n",
    "    if len(short_ans) != 0:\n",
    "        ind.append(i)\n"
   ]
  },
  {
   "cell_type": "code",
   "execution_count": 273,
   "metadata": {},
   "outputs": [
    {
     "data": {
      "text/plain": [
       "4289"
      ]
     },
     "execution_count": 273,
     "metadata": {},
     "output_type": "execute_result"
    }
   ],
   "source": [
    "len(ind)"
   ]
  },
  {
   "cell_type": "code",
   "execution_count": null,
   "metadata": {},
   "outputs": [],
   "source": []
  },
  {
   "cell_type": "code",
   "execution_count": 274,
   "metadata": {},
   "outputs": [],
   "source": [
    "def get_prediction_and_question(question, display = False, parse_only_paragraphs = False):\n",
    "    x = json.loads(question)\n",
    "    if display:\n",
    "        print('Question: ' , x['question_text'])\n",
    "    short_answers = get_short_answers(x)\n",
    "    if parse_only_paragraphs:\n",
    "        document_html = \" \".join(t['token'] for t in x['document_tokens'])\n",
    "        soup = BeautifulSoup(document_html)\n",
    "#         document_text = \" \".join(t.text for t in soup.find_all('p'))\n",
    "        document_text = \" \".join(t.text for t in soup.find_all('p')[:25])\n",
    "    else:\n",
    "        document_text = \" \".join(t['token'] for t in x['document_tokens'] if not t['html_token'])\n",
    "    question_text = x['question_text']\n",
    "    doc = document_text\n",
    "    q = question_text\n",
    "    answer = model.predict(doc,q)\n",
    "    if display:\n",
    "        print('Predicted Answer: ', answer['answer'])\n",
    "    \n",
    "    set_scores = []\n",
    "    sort_scores = []\n",
    "    all_avg_scores = []\n",
    "    for sa in short_answers:\n",
    "        token_set_ratio = fuzz.token_set_ratio(sa, answer['answer'])\n",
    "        token_sort_ratio = fuzz.token_sort_ratio(sa, answer['answer'])\n",
    "        avg_score = (token_set_ratio + token_sort_ratio) / 2\n",
    "        if display:\n",
    "            print('Correct Answer: ', sa)\n",
    "            print('Fuzzy score: ', avg_score)\n",
    "        set_scores.append(token_set_ratio)\n",
    "        sort_scores.append(token_sort_ratio)\n",
    "        all_avg_scores.append(avg_score)\n",
    "    max_index = all_avg_scores.index(max(all_avg_scores))\n",
    "    return (max(all_avg_scores), max(set_scores), max(sort_scores), question_text, list(short_answers)[max_index], answer['answer'], len(document_text))"
   ]
  },
  {
   "cell_type": "code",
   "execution_count": 275,
   "metadata": {},
   "outputs": [
    {
     "name": "stderr",
     "output_type": "stream",
     "text": [
      "100%|██████████| 4289/4289 [39:29<00:00,  1.81it/s]  \n"
     ]
    }
   ],
   "source": [
    "all_results = []\n",
    "for i in tqdm(ind):\n",
    "#     tup = get_prediction_and_question(list_of_q[i], display = False)\n",
    "    tup = get_prediction_and_question(list_of_q[i], display = False, parse_only_paragraphs = True)\n",
    "    all_results.append(tup)"
   ]
  },
  {
   "cell_type": "code",
   "execution_count": 276,
   "metadata": {},
   "outputs": [
    {
     "name": "stdout",
     "output_type": "stream",
     "text": [
      "Question:  star wars the clone wars anakin voice actor\n",
      "Predicted Answer:  voice of Anakin Skywalker in Star Wars : The Clone Wars and Star Wars Rebels\n",
      "Correct Answer:  Matthew MacKendree `` Matt '' Lanter\n",
      "Fuzzy score:  27.0\n"
     ]
    }
   ],
   "source": [
    "tup = get_prediction_and_question(list_of_q[ind[3]], display = True, parse_only_paragraphs = True)\n"
   ]
  },
  {
   "cell_type": "code",
   "execution_count": 277,
   "metadata": {},
   "outputs": [],
   "source": [
    "all_results = sorted(all_results, key=lambda x: x[0])"
   ]
  },
  {
   "cell_type": "code",
   "execution_count": 288,
   "metadata": {},
   "outputs": [],
   "source": [
    "scores = pd.DataFrame(all_results, columns = ['Average Score', 'Set Score', 'Sort Score','Question', 'Answer', 'Predicted', 'Length of Text'])"
   ]
  },
  {
   "cell_type": "code",
   "execution_count": 292,
   "metadata": {},
   "outputs": [],
   "source": [
    "scores = scores.sort_values(['Average Score'], ascending = False)"
   ]
  },
  {
   "cell_type": "code",
   "execution_count": 295,
   "metadata": {
    "scrolled": false
   },
   "outputs": [
    {
     "data": {
      "text/html": [
       "<div>\n",
       "<style scoped>\n",
       "    .dataframe tbody tr th:only-of-type {\n",
       "        vertical-align: middle;\n",
       "    }\n",
       "\n",
       "    .dataframe tbody tr th {\n",
       "        vertical-align: top;\n",
       "    }\n",
       "\n",
       "    .dataframe thead th {\n",
       "        text-align: right;\n",
       "    }\n",
       "</style>\n",
       "<table border=\"1\" class=\"dataframe\">\n",
       "  <thead>\n",
       "    <tr style=\"text-align: right;\">\n",
       "      <th></th>\n",
       "      <th>Average Score</th>\n",
       "      <th>Set Score</th>\n",
       "      <th>Sort Score</th>\n",
       "      <th>Question</th>\n",
       "      <th>Answer</th>\n",
       "      <th>Predicted</th>\n",
       "      <th>Length of Text</th>\n",
       "    </tr>\n",
       "  </thead>\n",
       "  <tbody>\n",
       "    <tr>\n",
       "      <th>4288</th>\n",
       "      <td>100.0</td>\n",
       "      <td>100</td>\n",
       "      <td>100</td>\n",
       "      <td>who sang smoke gets in your eyes first</td>\n",
       "      <td>Tamara Drasin</td>\n",
       "      <td>Tamara Drasin</td>\n",
       "      <td>11686</td>\n",
       "    </tr>\n",
       "    <tr>\n",
       "      <th>3836</th>\n",
       "      <td>100.0</td>\n",
       "      <td>100</td>\n",
       "      <td>100</td>\n",
       "      <td>what is the name of the gap between two front teeth</td>\n",
       "      <td>diastema</td>\n",
       "      <td>diastema</td>\n",
       "      <td>3821</td>\n",
       "    </tr>\n",
       "    <tr>\n",
       "      <th>3844</th>\n",
       "      <td>100.0</td>\n",
       "      <td>100</td>\n",
       "      <td>100</td>\n",
       "      <td>when was harry potter and the philosophers stone published</td>\n",
       "      <td>1997</td>\n",
       "      <td>1997</td>\n",
       "      <td>16923</td>\n",
       "    </tr>\n",
       "    <tr>\n",
       "      <th>3843</th>\n",
       "      <td>100.0</td>\n",
       "      <td>100</td>\n",
       "      <td>100</td>\n",
       "      <td>what is the word for clarified butter in the balkans and middle east</td>\n",
       "      <td>smen</td>\n",
       "      <td>smen</td>\n",
       "      <td>13311</td>\n",
       "    </tr>\n",
       "    <tr>\n",
       "      <th>3842</th>\n",
       "      <td>100.0</td>\n",
       "      <td>100</td>\n",
       "      <td>100</td>\n",
       "      <td>who is the director of nightmare before christmas</td>\n",
       "      <td>Henry Selick</td>\n",
       "      <td>Henry Selick</td>\n",
       "      <td>16159</td>\n",
       "    </tr>\n",
       "    <tr>\n",
       "      <th>...</th>\n",
       "      <td>...</td>\n",
       "      <td>...</td>\n",
       "      <td>...</td>\n",
       "      <td>...</td>\n",
       "      <td>...</td>\n",
       "      <td>...</td>\n",
       "      <td>...</td>\n",
       "    </tr>\n",
       "    <tr>\n",
       "      <th>144</th>\n",
       "      <td>0.0</td>\n",
       "      <td>0</td>\n",
       "      <td>0</td>\n",
       "      <td>when did the flash first appear on arrow</td>\n",
       "      <td>in the eighth episode of Arrow 's second season</td>\n",
       "      <td>2014</td>\n",
       "      <td>15079</td>\n",
       "    </tr>\n",
       "    <tr>\n",
       "      <th>143</th>\n",
       "      <td>0.0</td>\n",
       "      <td>0</td>\n",
       "      <td>0</td>\n",
       "      <td>who played young monica in love and basketball</td>\n",
       "      <td>Kyla Pratt</td>\n",
       "      <td>.</td>\n",
       "      <td>15052</td>\n",
       "    </tr>\n",
       "    <tr>\n",
       "      <th>142</th>\n",
       "      <td>0.0</td>\n",
       "      <td>0</td>\n",
       "      <td>0</td>\n",
       "      <td>when do you stop being a junior doctor</td>\n",
       "      <td>it culminates in a post as a Consultant , a General Practitioner ( GP ) , or some other non-training post , such as a Staff grade or Associate Specialist post</td>\n",
       "      <td>.</td>\n",
       "      <td>10071</td>\n",
       "    </tr>\n",
       "    <tr>\n",
       "      <th>141</th>\n",
       "      <td>0.0</td>\n",
       "      <td>0</td>\n",
       "      <td>0</td>\n",
       "      <td>who was the first british team to win the european cup</td>\n",
       "      <td>Celtic</td>\n",
       "      <td>da</td>\n",
       "      <td>12801</td>\n",
       "    </tr>\n",
       "    <tr>\n",
       "      <th>0</th>\n",
       "      <td>0.0</td>\n",
       "      <td>0</td>\n",
       "      <td>0</td>\n",
       "      <td>where are the summer olympics held this year</td>\n",
       "      <td>Tokyo for the 2020 Summer Olympics</td>\n",
       "      <td>1896</td>\n",
       "      <td>3459</td>\n",
       "    </tr>\n",
       "  </tbody>\n",
       "</table>\n",
       "<p>4289 rows × 7 columns</p>\n",
       "</div>"
      ],
      "text/plain": [
       "      Average Score  Set Score  Sort Score  \\\n",
       "4288          100.0        100         100   \n",
       "3836          100.0        100         100   \n",
       "3844          100.0        100         100   \n",
       "3843          100.0        100         100   \n",
       "3842          100.0        100         100   \n",
       "...             ...        ...         ...   \n",
       "144             0.0          0           0   \n",
       "143             0.0          0           0   \n",
       "142             0.0          0           0   \n",
       "141             0.0          0           0   \n",
       "0               0.0          0           0   \n",
       "\n",
       "                                                                  Question  \\\n",
       "4288                                who sang smoke gets in your eyes first   \n",
       "3836                   what is the name of the gap between two front teeth   \n",
       "3844            when was harry potter and the philosophers stone published   \n",
       "3843  what is the word for clarified butter in the balkans and middle east   \n",
       "3842                     who is the director of nightmare before christmas   \n",
       "...                                                                    ...   \n",
       "144                               when did the flash first appear on arrow   \n",
       "143                         who played young monica in love and basketball   \n",
       "142                                 when do you stop being a junior doctor   \n",
       "141                 who was the first british team to win the european cup   \n",
       "0                             where are the summer olympics held this year   \n",
       "\n",
       "                                                                                                                                                              Answer  \\\n",
       "4288                                                                                                                                                   Tamara Drasin   \n",
       "3836                                                                                                                                                        diastema   \n",
       "3844                                                                                                                                                            1997   \n",
       "3843                                                                                                                                                            smen   \n",
       "3842                                                                                                                                                    Henry Selick   \n",
       "...                                                                                                                                                              ...   \n",
       "144                                                                                                                  in the eighth episode of Arrow 's second season   \n",
       "143                                                                                                                                                       Kyla Pratt   \n",
       "142   it culminates in a post as a Consultant , a General Practitioner ( GP ) , or some other non-training post , such as a Staff grade or Associate Specialist post   \n",
       "141                                                                                                                                                           Celtic   \n",
       "0                                                                                                                                 Tokyo for the 2020 Summer Olympics   \n",
       "\n",
       "          Predicted  Length of Text  \n",
       "4288  Tamara Drasin           11686  \n",
       "3836       diastema            3821  \n",
       "3844           1997           16923  \n",
       "3843           smen           13311  \n",
       "3842   Henry Selick           16159  \n",
       "...             ...             ...  \n",
       "144            2014           15079  \n",
       "143               .           15052  \n",
       "142               .           10071  \n",
       "141              da           12801  \n",
       "0              1896            3459  \n",
       "\n",
       "[4289 rows x 7 columns]"
      ]
     },
     "metadata": {},
     "output_type": "display_data"
    }
   ],
   "source": [
    "display(scores)"
   ]
  },
  {
   "cell_type": "code",
   "execution_count": 287,
   "metadata": {
    "scrolled": true
   },
   "outputs": [
    {
     "data": {
      "text/plain": [
       "1374"
      ]
     },
     "execution_count": 287,
     "metadata": {},
     "output_type": "execute_result"
    }
   ],
   "source": [
    "len(scores[scores['Average Score'] >= 70])"
   ]
  },
  {
   "cell_type": "code",
   "execution_count": null,
   "metadata": {
    "scrolled": true
   },
   "outputs": [],
   "source": [
    "def get_prediction_and_question(question, display = False, parse_only_paragraphs = False):\n",
    "    x = json.loads(question)\n",
    "    if display:\n",
    "        print('Question: ' , x['question_text'])\n",
    "    short_answers = get_short_answers(x)\n",
    "    if parse_only_paragraphs:\n",
    "        document_html = \" \".join(t['token'] for t in x['document_tokens'])\n",
    "        soup = BeautifulSoup(document_html)\n",
    "#         document_text = \" \".join(t.text for t in soup.find_all('p'))\n",
    "        document_text = \" \".join(t.text for t in soup.find_all('p')[:25])\n",
    "    else:\n",
    "        document_text = \" \".join(t['token'] for t in x['document_tokens'] if not t['html_token'])\n",
    "    question_text = x['question_text']\n",
    "    doc = document_text\n",
    "    q = question_text\n",
    "    answer = model.predict(doc,q)\n",
    "    if display:\n",
    "        print('Predicted Answer: ', answer['answer'])\n",
    "    \n",
    "    set_scores = []\n",
    "    sort_scores = []\n",
    "    all_avg_scores = []\n",
    "    for sa in short_answers:\n",
    "        token_set_ratio = fuzz.token_set_ratio(sa, answer['answer'])\n",
    "        token_sort_ratio = fuzz.token_sort_ratio(sa, answer['answer'])\n",
    "        avg_score = (token_set_ratio + token_sort_ratio) / 2\n",
    "        if display:\n",
    "            print('Correct Answer: ', sa)\n",
    "            print('Fuzzy score: ', avg_score)\n",
    "        set_scores.append(token_set_ratio)\n",
    "        sort_scores.append(token_sort_ratio)\n",
    "        all_avg_scores.append(avg_score)\n",
    "    max_index = all_avg_scores.index(max(all_avg_scores))\n",
    "    return (max(all_avg_scores), max(set_scores), max(sort_scores), question_text, list(short_answers)[max_index], answer['answer'], len(document_text))"
   ]
  },
  {
   "cell_type": "code",
   "execution_count": null,
   "metadata": {},
   "outputs": [],
   "source": []
  },
  {
   "cell_type": "code",
   "execution_count": null,
   "metadata": {},
   "outputs": [],
   "source": []
  },
  {
   "cell_type": "code",
   "execution_count": null,
   "metadata": {},
   "outputs": [],
   "source": []
  },
  {
   "cell_type": "code",
   "execution_count": null,
   "metadata": {},
   "outputs": [],
   "source": []
  },
  {
   "cell_type": "code",
   "execution_count": null,
   "metadata": {},
   "outputs": [],
   "source": []
  },
  {
   "cell_type": "code",
   "execution_count": null,
   "metadata": {},
   "outputs": [],
   "source": []
  }
 ],
 "metadata": {
  "kernelspec": {
   "display_name": "Python 3",
   "language": "python",
   "name": "python3"
  },
  "language_info": {
   "codemirror_mode": {
    "name": "ipython",
    "version": 3
   },
   "file_extension": ".py",
   "mimetype": "text/x-python",
   "name": "python",
   "nbconvert_exporter": "python",
   "pygments_lexer": "ipython3",
   "version": "3.9.2"
  }
 },
 "nbformat": 4,
 "nbformat_minor": 2
}
