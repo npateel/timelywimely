{
 "cells": [
  {
   "cell_type": "code",
   "execution_count": 180,
   "id": "0b50e777",
   "metadata": {},
   "outputs": [],
   "source": [
    "import json\n",
    "import gzip\n",
    "from tqdm import tqdm\n",
    "from pytrends.request import TrendReq\n",
    "from pytrends.exceptions import ResponseError\n",
    "import matplotlib.pyplot as plt\n",
    "from pandas import DataFrame as df\n",
    "import sys\n",
    "import numpy as np\n",
    "\n",
    "from rake_nltk import Rake"
   ]
  },
  {
   "cell_type": "code",
   "execution_count": 181,
   "id": "7da1fae3",
   "metadata": {},
   "outputs": [
    {
     "name": "stderr",
     "output_type": "stream",
     "text": [
      "7830it [00:17, 445.19it/s]\n"
     ]
    }
   ],
   "source": [
    "i = 0\n",
    "list_of_q = []\n",
    "with gzip.open('nq.jsonl.gz') as f:\n",
    "    for line in tqdm(f):\n",
    "        if i > 100 and i < 1100:\n",
    "            list_of_q.append(line)\n",
    "        i += 1"
   ]
  },
  {
   "cell_type": "code",
   "execution_count": 117,
   "id": "cf5a36b4",
   "metadata": {},
   "outputs": [],
   "source": [
    "l = list_of_q[20]\n",
    "x = json.loads(l)"
   ]
  },
  {
   "cell_type": "code",
   "execution_count": 219,
   "id": "2e894b18",
   "metadata": {},
   "outputs": [
    {
     "data": {
      "text/plain": [
       "dict_keys(['annotations', 'document_html', 'document_title', 'document_tokens', 'document_url', 'example_id', 'long_answer_candidates', 'question_text', 'question_tokens'])"
      ]
     },
     "metadata": {},
     "output_type": "display_data"
    },
    {
     "data": {
      "text/plain": [
       "dict_keys(['annotation_id', 'long_answer', 'short_answers', 'yes_no_answer'])"
      ]
     },
     "metadata": {},
     "output_type": "display_data"
    },
    {
     "data": {
      "text/plain": [
       "dict_keys(['end_byte', 'html_token', 'start_byte', 'token'])"
      ]
     },
     "metadata": {},
     "output_type": "display_data"
    },
    {
     "data": {
      "text/plain": [
       "dict_keys(['end_byte', 'end_token', 'start_byte', 'start_token', 'top_level'])"
      ]
     },
     "metadata": {},
     "output_type": "display_data"
    },
    {
     "data": {
      "text/plain": [
       "'when did the 49ers last won a superbowl'"
      ]
     },
     "metadata": {},
     "output_type": "display_data"
    },
    {
     "data": {
      "text/plain": [
       "'https://en.wikipedia.org//w/index.php?title=Seattle_Seahawks&amp;oldid=838456148'"
      ]
     },
     "metadata": {},
     "output_type": "display_data"
    }
   ],
   "source": [
    "display(x.keys())\n",
    "display(x['annotations'][0].keys())\n",
    "display(x['document_tokens'][0].keys())\n",
    "display(x['long_answer_candidates'][0].keys())\n",
    "display(x['question_text'])\n",
    "display(x['document_url'])"
   ]
  },
  {
   "cell_type": "code",
   "execution_count": 132,
   "id": "9a54352d",
   "metadata": {},
   "outputs": [
    {
     "data": {
      "text/plain": [
       "['<Table>',\n",
       " '<Tr>',\n",
       " '<Th colspan=\"2\">',\n",
       " 'Seattle',\n",
       " 'Seahawks',\n",
       " '</Th>',\n",
       " '</Tr>',\n",
       " '<Tr>',\n",
       " '<Td colspan=\"2\">',\n",
       " 'Current',\n",
       " 'season',\n",
       " '</Td>',\n",
       " '</Tr>',\n",
       " '<Tr>',\n",
       " '<Td colspan=\"2\">',\n",
       " 'Established',\n",
       " 'June',\n",
       " '4',\n",
       " ',',\n",
       " '1974',\n",
       " ';',\n",
       " '43',\n",
       " 'years',\n",
       " 'ago',\n",
       " '(',\n",
       " '1974',\n",
       " '-',\n",
       " '06',\n",
       " '-',\n",
       " '04',\n",
       " ')',\n",
       " 'First',\n",
       " 'season',\n",
       " ':',\n",
       " '1976',\n",
       " 'Play',\n",
       " 'in',\n",
       " 'CenturyLink',\n",
       " 'Field',\n",
       " 'Seattle',\n",
       " ',',\n",
       " 'Washington',\n",
       " 'Headquartered',\n",
       " 'in',\n",
       " 'the',\n",
       " 'Virginia',\n",
       " 'Mason',\n",
       " 'Athletic',\n",
       " 'Center',\n",
       " 'Renton',\n",
       " ',',\n",
       " 'Washington',\n",
       " '</Td>',\n",
       " '</Tr>',\n",
       " '<Tr>',\n",
       " '<Th colspan=\"2\">',\n",
       " '</Th>',\n",
       " '</Tr>',\n",
       " '<Tr>',\n",
       " '<Td colspan=\"2\">',\n",
       " '<Table>',\n",
       " '<Tr>',\n",
       " '<Td>',\n",
       " '</Td>',\n",
       " '<Td>',\n",
       " '</Td>',\n",
       " '</Tr>',\n",
       " '<Tr>',\n",
       " '<Td>',\n",
       " 'Logo',\n",
       " '</Td>',\n",
       " '<Td>',\n",
       " 'Wordmark',\n",
       " '</Td>',\n",
       " '</Tr>',\n",
       " '</Table>',\n",
       " '</Td>',\n",
       " '</Tr>',\n",
       " '<Tr>',\n",
       " '<Th colspan=\"2\">',\n",
       " 'League',\n",
       " '/',\n",
       " 'conference',\n",
       " 'affiliations',\n",
       " '</Th>',\n",
       " '</Tr>',\n",
       " '<Tr>',\n",
       " '<Td colspan=\"2\">',\n",
       " '<P>',\n",
       " 'National',\n",
       " 'Football',\n",
       " 'League',\n",
       " '(',\n",
       " '1976',\n",
       " '--',\n",
       " 'present',\n",
       " ')',\n",
       " '</P>',\n",
       " '<Ul>',\n",
       " '<Li>',\n",
       " 'American',\n",
       " 'Football',\n",
       " 'Conference',\n",
       " '(',\n",
       " '1977',\n",
       " '--',\n",
       " '2001',\n",
       " ')',\n",
       " '<Ul>',\n",
       " '<Li>',\n",
       " 'AFC',\n",
       " 'West',\n",
       " '(',\n",
       " '1977',\n",
       " '--',\n",
       " '2001',\n",
       " ')',\n",
       " '</Li>',\n",
       " '</Ul>',\n",
       " '</Li>',\n",
       " '<Li>',\n",
       " 'National',\n",
       " 'Football',\n",
       " 'Conference',\n",
       " '(',\n",
       " '1976',\n",
       " ',',\n",
       " '2002',\n",
       " '--',\n",
       " 'present',\n",
       " ')',\n",
       " '<Ul>',\n",
       " '<Li>',\n",
       " 'NFC',\n",
       " 'West',\n",
       " '(',\n",
       " '1976',\n",
       " ',',\n",
       " '2002',\n",
       " '--',\n",
       " 'present',\n",
       " ')',\n",
       " '</Li>',\n",
       " '</Ul>',\n",
       " '</Li>',\n",
       " '</Ul>',\n",
       " '</Td>',\n",
       " '</Tr>',\n",
       " '<Tr>',\n",
       " '<Td colspan=\"2\">',\n",
       " 'Current',\n",
       " 'uniform',\n",
       " '</Td>',\n",
       " '</Tr>',\n",
       " '<Tr>',\n",
       " '<Td colspan=\"2\">',\n",
       " '</Td>',\n",
       " '</Tr>',\n",
       " '<Tr>',\n",
       " '<Th>',\n",
       " 'Team',\n",
       " 'colors',\n",
       " '</Th>',\n",
       " '<Td>',\n",
       " '<P>',\n",
       " 'College',\n",
       " 'Navy',\n",
       " ',',\n",
       " 'Action',\n",
       " 'Green',\n",
       " ',',\n",
       " 'Wolf',\n",
       " 'Grey',\n",
       " '</P>',\n",
       " '</Td>',\n",
       " '</Tr>',\n",
       " '<Tr>',\n",
       " '<Th>',\n",
       " 'Mascot',\n",
       " '</Th>',\n",
       " '<Td>',\n",
       " 'Blitz',\n",
       " ',',\n",
       " 'Boom',\n",
       " ',',\n",
       " 'Taima',\n",
       " 'the',\n",
       " 'Hawk',\n",
       " '(',\n",
       " 'live',\n",
       " 'Augur',\n",
       " 'hawk',\n",
       " ')',\n",
       " '</Td>',\n",
       " '</Tr>',\n",
       " '<Tr>',\n",
       " '<Th colspan=\"2\">',\n",
       " 'Personnel',\n",
       " '</Th>',\n",
       " '</Tr>',\n",
       " '<Tr>',\n",
       " '<Th>',\n",
       " 'Owner',\n",
       " '(',\n",
       " 's',\n",
       " ')',\n",
       " '</Th>',\n",
       " '<Td>',\n",
       " 'Paul',\n",
       " 'Allen',\n",
       " '</Td>',\n",
       " '</Tr>',\n",
       " '<Tr>',\n",
       " '<Th>',\n",
       " 'Chairman',\n",
       " '</Th>',\n",
       " '<Td>',\n",
       " 'Paul',\n",
       " 'Allen',\n",
       " '</Td>',\n",
       " '</Tr>',\n",
       " '<Tr>',\n",
       " '<Th>',\n",
       " 'CEO',\n",
       " '</Th>',\n",
       " '<Td>',\n",
       " 'Peter',\n",
       " 'McLoughlin',\n",
       " '</Td>',\n",
       " '</Tr>',\n",
       " '<Tr>',\n",
       " '<Th>',\n",
       " 'President',\n",
       " '</Th>',\n",
       " '<Td>',\n",
       " 'Peter',\n",
       " 'McLoughlin',\n",
       " '</Td>',\n",
       " '</Tr>',\n",
       " '<Tr>',\n",
       " '<Th>',\n",
       " 'General',\n",
       " 'manager',\n",
       " '</Th>',\n",
       " '<Td>',\n",
       " 'John',\n",
       " 'Schneider',\n",
       " '</Td>',\n",
       " '</Tr>',\n",
       " '<Tr>',\n",
       " '<Th>',\n",
       " 'Head',\n",
       " 'coach',\n",
       " '</Th>',\n",
       " '<Td>',\n",
       " 'Pete',\n",
       " 'Carroll',\n",
       " '</Td>',\n",
       " '</Tr>',\n",
       " '<Tr>',\n",
       " '<Th colspan=\"2\">',\n",
       " 'Team',\n",
       " 'history',\n",
       " '</Th>',\n",
       " '</Tr>',\n",
       " '<Tr>',\n",
       " '<Td colspan=\"2\">',\n",
       " '<Ul>',\n",
       " '<Li>',\n",
       " 'Seattle',\n",
       " 'Seahawks',\n",
       " '(',\n",
       " '1976',\n",
       " '--',\n",
       " 'present',\n",
       " ')',\n",
       " '</Li>',\n",
       " '</Ul>',\n",
       " '</Td>',\n",
       " '</Tr>',\n",
       " '<Tr>',\n",
       " '<Th colspan=\"2\">',\n",
       " 'Team',\n",
       " 'nicknames',\n",
       " '</Th>',\n",
       " '</Tr>',\n",
       " '<Tr>',\n",
       " '<Td colspan=\"2\">',\n",
       " '<Ul>',\n",
       " '<Li>',\n",
       " 'The',\n",
       " \"'\",\n",
       " 'Hawks',\n",
       " '</Li>',\n",
       " '<Li>',\n",
       " 'The',\n",
       " 'Blue',\n",
       " 'Wave',\n",
       " '(',\n",
       " '1984',\n",
       " '--',\n",
       " '1986',\n",
       " ')',\n",
       " '</Li>',\n",
       " '<Li>',\n",
       " 'The',\n",
       " 'Legion',\n",
       " 'of',\n",
       " 'Boom',\n",
       " '(',\n",
       " 'secondary',\n",
       " ',',\n",
       " '2011',\n",
       " '--',\n",
       " 'present',\n",
       " ')',\n",
       " '</Li>',\n",
       " '</Ul>',\n",
       " '</Td>',\n",
       " '</Tr>',\n",
       " '<Tr>',\n",
       " '<Th colspan=\"2\">',\n",
       " 'Championships',\n",
       " '</Th>',\n",
       " '</Tr>',\n",
       " '<Tr>',\n",
       " '<Td colspan=\"2\">',\n",
       " '<P>',\n",
       " 'League',\n",
       " 'championships',\n",
       " '(',\n",
       " '1',\n",
       " ')',\n",
       " '</P>',\n",
       " '<Ul>',\n",
       " '<Li>',\n",
       " 'Super',\n",
       " 'Bowl',\n",
       " 'championships',\n",
       " '(',\n",
       " '1',\n",
       " ')',\n",
       " '2013',\n",
       " '(',\n",
       " 'XLVIII',\n",
       " ')',\n",
       " '</Li>',\n",
       " '</Ul>',\n",
       " '</Td>',\n",
       " '</Tr>',\n",
       " '<Tr>',\n",
       " '<Td colspan=\"2\">',\n",
       " '<P>',\n",
       " 'Conference',\n",
       " 'championships',\n",
       " '(',\n",
       " '3',\n",
       " ')',\n",
       " '</P>',\n",
       " '<Ul>',\n",
       " '<Li>',\n",
       " 'NFC',\n",
       " ':',\n",
       " '2005',\n",
       " ',',\n",
       " '2013',\n",
       " ',',\n",
       " '2014',\n",
       " '</Li>',\n",
       " '</Ul>',\n",
       " '</Td>',\n",
       " '</Tr>',\n",
       " '<Tr>',\n",
       " '<Td colspan=\"2\">',\n",
       " '<P>',\n",
       " 'Division',\n",
       " 'championships',\n",
       " '(',\n",
       " '10',\n",
       " ')',\n",
       " '</P>',\n",
       " '<Ul>',\n",
       " '<Li>',\n",
       " 'AFC',\n",
       " 'West',\n",
       " ':',\n",
       " '1988',\n",
       " ',',\n",
       " '1999',\n",
       " '</Li>',\n",
       " '<Li>',\n",
       " 'NFC',\n",
       " 'West',\n",
       " ':',\n",
       " '2004',\n",
       " ',',\n",
       " '2005',\n",
       " ',',\n",
       " '2006',\n",
       " ',',\n",
       " '2007',\n",
       " ',',\n",
       " '2010',\n",
       " ',',\n",
       " '2013',\n",
       " ',',\n",
       " '2014',\n",
       " ',',\n",
       " '2016',\n",
       " '</Li>',\n",
       " '</Ul>',\n",
       " '</Td>',\n",
       " '</Tr>',\n",
       " '<Tr>',\n",
       " '<Th colspan=\"2\">',\n",
       " 'Playoff',\n",
       " 'appearances',\n",
       " '(',\n",
       " '16',\n",
       " ')',\n",
       " '</Th>',\n",
       " '</Tr>',\n",
       " '<Tr>',\n",
       " '<Td colspan=\"2\">',\n",
       " '<Ul>',\n",
       " '<Li>',\n",
       " 'NFL',\n",
       " ':',\n",
       " '1983',\n",
       " ',',\n",
       " '1984',\n",
       " ',',\n",
       " '1987',\n",
       " ',',\n",
       " '1988',\n",
       " ',',\n",
       " '1999',\n",
       " ',',\n",
       " '2003',\n",
       " ',',\n",
       " '2004',\n",
       " ',',\n",
       " '2005',\n",
       " ',',\n",
       " '2006',\n",
       " ',',\n",
       " '2007',\n",
       " ',',\n",
       " '2010',\n",
       " ',',\n",
       " '2012',\n",
       " ',',\n",
       " '2013',\n",
       " ',',\n",
       " '2014',\n",
       " ',',\n",
       " '2015',\n",
       " ',',\n",
       " '2016',\n",
       " '</Li>',\n",
       " '</Ul>',\n",
       " '</Td>',\n",
       " '</Tr>',\n",
       " '<Tr>',\n",
       " '<Th colspan=\"2\">',\n",
       " 'Home',\n",
       " 'fields',\n",
       " '</Th>',\n",
       " '</Tr>',\n",
       " '<Tr>',\n",
       " '<Td colspan=\"2\">',\n",
       " '<Ul>',\n",
       " '<Li>',\n",
       " 'Kingdome',\n",
       " '(',\n",
       " '1976',\n",
       " '--',\n",
       " '1999',\n",
       " ')',\n",
       " '</Li>',\n",
       " '<Li>',\n",
       " 'Husky',\n",
       " 'Stadium',\n",
       " '(',\n",
       " '2000',\n",
       " '--',\n",
       " '2001',\n",
       " ')',\n",
       " '</Li>',\n",
       " '<Li>',\n",
       " 'CenturyLink',\n",
       " 'Field',\n",
       " '(',\n",
       " '2002',\n",
       " '--',\n",
       " 'present',\n",
       " ')',\n",
       " '</Li>',\n",
       " '</Ul>',\n",
       " '</Td>',\n",
       " '</Tr>',\n",
       " '</Table>']"
      ]
     },
     "execution_count": 132,
     "metadata": {},
     "output_type": "execute_result"
    }
   ],
   "source": [
    "[y['token'] for y in x['document_tokens'][30:532]]"
   ]
  },
  {
   "cell_type": "code",
   "execution_count": 119,
   "id": "25b5ce6c",
   "metadata": {
    "scrolled": true
   },
   "outputs": [
    {
     "data": {
      "text/plain": [
       "[{'annotation_id': 5652942812737956535,\n",
       "  'long_answer': {'candidate_index': -1,\n",
       "   'end_byte': -1,\n",
       "   'end_token': -1,\n",
       "   'start_byte': -1,\n",
       "   'start_token': -1},\n",
       "  'short_answers': [],\n",
       "  'yes_no_answer': 'NONE'},\n",
       " {'annotation_id': 7508345935899274474,\n",
       "  'long_answer': {'candidate_index': -1,\n",
       "   'end_byte': -1,\n",
       "   'end_token': -1,\n",
       "   'start_byte': -1,\n",
       "   'start_token': -1},\n",
       "  'short_answers': [],\n",
       "  'yes_no_answer': 'NONE'},\n",
       " {'annotation_id': 4780625526650654850,\n",
       "  'long_answer': {'candidate_index': -1,\n",
       "   'end_byte': -1,\n",
       "   'end_token': -1,\n",
       "   'start_byte': -1,\n",
       "   'start_token': -1},\n",
       "  'short_answers': [],\n",
       "  'yes_no_answer': 'NONE'},\n",
       " {'annotation_id': 13347808338101537992,\n",
       "  'long_answer': {'candidate_index': -1,\n",
       "   'end_byte': -1,\n",
       "   'end_token': -1,\n",
       "   'start_byte': -1,\n",
       "   'start_token': -1},\n",
       "  'short_answers': [],\n",
       "  'yes_no_answer': 'NONE'},\n",
       " {'annotation_id': 15961978642434181346,\n",
       "  'long_answer': {'candidate_index': -1,\n",
       "   'end_byte': -1,\n",
       "   'end_token': -1,\n",
       "   'start_byte': -1,\n",
       "   'start_token': -1},\n",
       "  'short_answers': [],\n",
       "  'yes_no_answer': 'NONE'}]"
      ]
     },
     "execution_count": 119,
     "metadata": {},
     "output_type": "execute_result"
    }
   ],
   "source": [
    "x['annotations']"
   ]
  },
  {
   "cell_type": "code",
   "execution_count": 120,
   "id": "b2bc2970",
   "metadata": {},
   "outputs": [],
   "source": [
    "answer = x['document_html'].encode('utf-8')[70812:70823].decode('utf-8')"
   ]
  },
  {
   "cell_type": "code",
   "execution_count": 202,
   "id": "67f66b4f",
   "metadata": {},
   "outputs": [],
   "source": [
    "pytrends = TrendReq(hl='en-US', tz=300, timeout=(10,25), retries=10, backoff_factor=0.001, requests_args={'verify':True})"
   ]
  },
  {
   "cell_type": "code",
   "execution_count": 122,
   "id": "c48efb1e",
   "metadata": {},
   "outputs": [],
   "source": [
    "kw_list = [answer]\n",
    "pytrends.build_payload(kw_list, cat=0, timeframe='all', geo='', gprop='')"
   ]
  },
  {
   "cell_type": "code",
   "execution_count": 74,
   "id": "ab7389cb",
   "metadata": {},
   "outputs": [],
   "source": [
    "trend =pytrends.interest_over_time()"
   ]
  },
  {
   "cell_type": "code",
   "execution_count": 75,
   "id": "4cf31207",
   "metadata": {},
   "outputs": [
    {
     "data": {
      "text/html": [
       "<div>\n",
       "<style scoped>\n",
       "    .dataframe tbody tr th:only-of-type {\n",
       "        vertical-align: middle;\n",
       "    }\n",
       "\n",
       "    .dataframe tbody tr th {\n",
       "        vertical-align: top;\n",
       "    }\n",
       "\n",
       "    .dataframe thead th {\n",
       "        text-align: right;\n",
       "    }\n",
       "</style>\n",
       "<table border=\"1\" class=\"dataframe\">\n",
       "  <thead>\n",
       "    <tr style=\"text-align: right;\">\n",
       "      <th></th>\n",
       "    </tr>\n",
       "  </thead>\n",
       "  <tbody>\n",
       "  </tbody>\n",
       "</table>\n",
       "</div>"
      ],
      "text/plain": [
       "Empty DataFrame\n",
       "Columns: []\n",
       "Index: []"
      ]
     },
     "execution_count": 75,
     "metadata": {},
     "output_type": "execute_result"
    }
   ],
   "source": [
    "trend"
   ]
  },
  {
   "cell_type": "code",
   "execution_count": 123,
   "id": "0e49429d",
   "metadata": {},
   "outputs": [],
   "source": [
    "r = Rake()\n",
    "r.extract_keywords_from_text(x['question_text'])\n",
    "kw_list = r.get_ranked_phrases()\n",
    "pytrends.build_payload(kw_list, cat=0, timeframe='all', geo='', gprop='')"
   ]
  },
  {
   "cell_type": "code",
   "execution_count": 124,
   "id": "e3e8fa88",
   "metadata": {},
   "outputs": [],
   "source": [
    "trend = pytrends.interest_over_time()\n",
    "\n",
    "trend = trend - trend.mean()\n",
    "trend = trend.drop(['isPartial'], axis=1)"
   ]
  },
  {
   "cell_type": "code",
   "execution_count": 125,
   "id": "dd05f62c",
   "metadata": {},
   "outputs": [
    {
     "data": {
      "text/plain": [
       "<AxesSubplot:xlabel='date'>"
      ]
     },
     "execution_count": 125,
     "metadata": {},
     "output_type": "execute_result"
    },
    {
     "data": {
      "image/png": "[encoded data removed]",
      "text/plain": [
       "<Figure size 432x288 with 1 Axes>"
      ]
     },
     "metadata": {
      "needs_background": "light"
     },
     "output_type": "display_data"
    }
   ],
   "source": [
    "trend.plot()"
   ]
  },
  {
   "cell_type": "code",
   "execution_count": 140,
   "id": "0efdd303",
   "metadata": {},
   "outputs": [
    {
     "name": "stdout",
     "output_type": "stream",
     "text": [
      "[]\n",
      "[]\n"
     ]
    }
   ],
   "source": [
    "def get_short_answers(question):\n",
    "    answers = set()\n",
    "    for annotation in question['annotations']:\n",
    "        if len(annotation['short_answers']) != 0:\n",
    "            short_answer = annotation['short_answers'][0]\n",
    "            answer = question['document_html'].encode('utf-8')[short_answer['start_byte']:short_answer['end_byte']].decode('utf-8')\n",
    "            answers.add(answer)\n",
    "    return list(answers)\n",
    "            \n",
    "            \n",
    "print(json.loads(l)['annotations'][0]['short_answers'])\n",
    "print(get_short_answer(json.loads(l)))"
   ]
  },
  {
   "cell_type": "code",
   "execution_count": 196,
   "id": "b90f4d92",
   "metadata": {},
   "outputs": [],
   "source": [
    "def get_trend(question, normalize=False):\n",
    "    short_answers = get_short_answer(question)\n",
    "    r = Rake()\n",
    "    r.extract_keywords_from_text(question['question_text'])\n",
    "    \n",
    "    question_keywords = r.get_ranked_phrases()\n",
    "    \n",
    "\n",
    "    # Get trend data of answers and question keywords\n",
    "    try:\n",
    "        pytrends.build_payload(short_answers, cat=0, timeframe='all', geo='', gprop='')\n",
    "        answer_trends = pytrends.interest_over_time()\n",
    "    except ResponseError as e:\n",
    "        print(e.response)\n",
    "        return df(), df()\n",
    "    \n",
    "    \n",
    "\n",
    "    \n",
    "    try:\n",
    "        pytrends.build_payload(question_keywords, cat=0, timeframe='all', geo='', gprop='')\n",
    "        question_trends = pytrends.interest_over_time()\n",
    "    except ResponseError as e:\n",
    "        print(e.response)\n",
    "        return df(), df()\n",
    "            \n",
    "    \n",
    "    if normalize:\n",
    "        if 'isPartial' in answer_trends.columns:\n",
    "            answer_trends = answer_trends.drop(['isPartial'], axis=1)\n",
    "        if 'isPartial' in question_trends.columns:    \n",
    "            question_trends =question_trends.drop(['isPartial'], axis=1)\n",
    "        answer_trends = answer_trends - answer_trends.mean()\n",
    "        question_trends = question_trends - question_trends.mean()\n",
    "    \n",
    "    \n",
    "    return question_trends, answer_trends\n",
    "    "
   ]
  },
  {
   "cell_type": "code",
   "execution_count": 197,
   "id": "54fb9e9c",
   "metadata": {},
   "outputs": [
    {
     "data": {
      "text/plain": [
       "<AxesSubplot:xlabel='date'>"
      ]
     },
     "execution_count": 197,
     "metadata": {},
     "output_type": "execute_result"
    },
    {
     "data": {
      "image/png": "[encoded data removed]",
      "text/plain": [
       "<Figure size 432x288 with 1 Axes>"
      ]
     },
     "metadata": {
      "needs_background": "light"
     },
     "output_type": "display_data"
    }
   ],
   "source": [
    "a.plot()"
   ]
  },
  {
   "cell_type": "code",
   "execution_count": 198,
   "id": "0b16bc8a",
   "metadata": {},
   "outputs": [],
   "source": [
    "combined = q.merge(a, left_on='date', right_on='date')"
   ]
  },
  {
   "cell_type": "code",
   "execution_count": 199,
   "id": "56ec0612",
   "metadata": {},
   "outputs": [
    {
     "data": {
      "text/plain": [
       "0.2982669074168234"
      ]
     },
     "execution_count": 199,
     "metadata": {},
     "output_type": "execute_result"
    }
   ],
   "source": [
    "combined.corr()['Scarlett Johansson'][:-1].max()"
   ]
  },
  {
   "cell_type": "code",
   "execution_count": 200,
   "id": "8d8fd2a1",
   "metadata": {},
   "outputs": [
    {
     "ename": "KeyError",
     "evalue": "'Tamara Drasin'",
     "output_type": "error",
     "traceback": [
      "\u001b[0;31m---------------------------------------------------------------------------\u001b[0m",
      "\u001b[0;31mKeyError\u001b[0m                                  Traceback (most recent call last)",
      "\u001b[0;32m~/anaconda3/envs/clenv/lib/python3.9/site-packages/pandas/core/indexes/base.py\u001b[0m in \u001b[0;36mget_loc\u001b[0;34m(self, key, method, tolerance)\u001b[0m\n\u001b[1;32m   3079\u001b[0m             \u001b[0;32mtry\u001b[0m\u001b[0;34m:\u001b[0m\u001b[0;34m\u001b[0m\u001b[0;34m\u001b[0m\u001b[0m\n\u001b[0;32m-> 3080\u001b[0;31m                 \u001b[0;32mreturn\u001b[0m \u001b[0mself\u001b[0m\u001b[0;34m.\u001b[0m\u001b[0m_engine\u001b[0m\u001b[0;34m.\u001b[0m\u001b[0mget_loc\u001b[0m\u001b[0;34m(\u001b[0m\u001b[0mcasted_key\u001b[0m\u001b[0;34m)\u001b[0m\u001b[0;34m\u001b[0m\u001b[0;34m\u001b[0m\u001b[0m\n\u001b[0m\u001b[1;32m   3081\u001b[0m             \u001b[0;32mexcept\u001b[0m \u001b[0mKeyError\u001b[0m \u001b[0;32mas\u001b[0m \u001b[0merr\u001b[0m\u001b[0;34m:\u001b[0m\u001b[0;34m\u001b[0m\u001b[0;34m\u001b[0m\u001b[0m\n",
      "\u001b[0;32mpandas/_libs/index.pyx\u001b[0m in \u001b[0;36mpandas._libs.index.IndexEngine.get_loc\u001b[0;34m()\u001b[0m\n",
      "\u001b[0;32mpandas/_libs/index.pyx\u001b[0m in \u001b[0;36mpandas._libs.index.IndexEngine.get_loc\u001b[0;34m()\u001b[0m\n",
      "\u001b[0;32mpandas/_libs/hashtable_class_helper.pxi\u001b[0m in \u001b[0;36mpandas._libs.hashtable.PyObjectHashTable.get_item\u001b[0;34m()\u001b[0m\n",
      "\u001b[0;32mpandas/_libs/hashtable_class_helper.pxi\u001b[0m in \u001b[0;36mpandas._libs.hashtable.PyObjectHashTable.get_item\u001b[0;34m()\u001b[0m\n",
      "\u001b[0;31mKeyError\u001b[0m: 'Tamara Drasin'",
      "\nThe above exception was the direct cause of the following exception:\n",
      "\u001b[0;31mKeyError\u001b[0m                                  Traceback (most recent call last)",
      "\u001b[0;32m<ipython-input-200-aac8876dec8b>\u001b[0m in \u001b[0;36m<module>\u001b[0;34m\u001b[0m\n\u001b[1;32m      2\u001b[0m \u001b[0;34m\u001b[0m\u001b[0m\n\u001b[1;32m      3\u001b[0m \u001b[0mf\u001b[0m\u001b[0;34m,\u001b[0m\u001b[0max\u001b[0m\u001b[0;34m=\u001b[0m\u001b[0mplt\u001b[0m\u001b[0;34m.\u001b[0m\u001b[0msubplots\u001b[0m\u001b[0;34m(\u001b[0m\u001b[0mfigsize\u001b[0m\u001b[0;34m=\u001b[0m\u001b[0;34m(\u001b[0m\u001b[0;36m7\u001b[0m\u001b[0;34m,\u001b[0m\u001b[0;36m3\u001b[0m\u001b[0;34m)\u001b[0m\u001b[0;34m)\u001b[0m\u001b[0;34m\u001b[0m\u001b[0;34m\u001b[0m\u001b[0m\n\u001b[0;32m----> 4\u001b[0;31m \u001b[0mdisplay\u001b[0m\u001b[0;34m(\u001b[0m\u001b[0mcombined\u001b[0m\u001b[0;34m[\u001b[0m\u001b[0;34m'Tamara Drasin'\u001b[0m\u001b[0;34m]\u001b[0m\u001b[0;34m.\u001b[0m\u001b[0mrolling\u001b[0m\u001b[0;34m(\u001b[0m\u001b[0mwindow\u001b[0m\u001b[0;34m=\u001b[0m\u001b[0;36m1\u001b[0m\u001b[0;34m,\u001b[0m\u001b[0mcenter\u001b[0m\u001b[0;34m=\u001b[0m\u001b[0;32mTrue\u001b[0m\u001b[0;34m)\u001b[0m\u001b[0;34m.\u001b[0m\u001b[0mcorr\u001b[0m\u001b[0;34m(\u001b[0m\u001b[0mcombined\u001b[0m\u001b[0;34m[\u001b[0m\u001b[0;34m'eyes first'\u001b[0m\u001b[0;34m]\u001b[0m\u001b[0;34m)\u001b[0m\u001b[0;34m)\u001b[0m\u001b[0;34m\u001b[0m\u001b[0;34m\u001b[0m\u001b[0m\n\u001b[0m\u001b[1;32m      5\u001b[0m \u001b[0max\u001b[0m\u001b[0;34m.\u001b[0m\u001b[0mset\u001b[0m\u001b[0;34m(\u001b[0m\u001b[0mxlabel\u001b[0m\u001b[0;34m=\u001b[0m\u001b[0;34m'Time'\u001b[0m\u001b[0;34m,\u001b[0m\u001b[0mylabel\u001b[0m\u001b[0;34m=\u001b[0m\u001b[0;34m'Pearson r'\u001b[0m\u001b[0;34m)\u001b[0m\u001b[0;34m\u001b[0m\u001b[0;34m\u001b[0m\u001b[0m\n\u001b[1;32m      6\u001b[0m \u001b[0max\u001b[0m\u001b[0;34m.\u001b[0m\u001b[0mset\u001b[0m\u001b[0;34m(\u001b[0m\u001b[0mtitle\u001b[0m\u001b[0;34m=\u001b[0m\u001b[0;34mf\"Overall Pearson r = {np.round(overall_pearson_r,2)}\"\u001b[0m\u001b[0;34m)\u001b[0m\u001b[0;34m;\u001b[0m\u001b[0;34m\u001b[0m\u001b[0;34m\u001b[0m\u001b[0m\n",
      "\u001b[0;32m~/anaconda3/envs/clenv/lib/python3.9/site-packages/pandas/core/frame.py\u001b[0m in \u001b[0;36m__getitem__\u001b[0;34m(self, key)\u001b[0m\n\u001b[1;32m   3022\u001b[0m             \u001b[0;32mif\u001b[0m \u001b[0mself\u001b[0m\u001b[0;34m.\u001b[0m\u001b[0mcolumns\u001b[0m\u001b[0;34m.\u001b[0m\u001b[0mnlevels\u001b[0m \u001b[0;34m>\u001b[0m \u001b[0;36m1\u001b[0m\u001b[0;34m:\u001b[0m\u001b[0;34m\u001b[0m\u001b[0;34m\u001b[0m\u001b[0m\n\u001b[1;32m   3023\u001b[0m                 \u001b[0;32mreturn\u001b[0m \u001b[0mself\u001b[0m\u001b[0;34m.\u001b[0m\u001b[0m_getitem_multilevel\u001b[0m\u001b[0;34m(\u001b[0m\u001b[0mkey\u001b[0m\u001b[0;34m)\u001b[0m\u001b[0;34m\u001b[0m\u001b[0;34m\u001b[0m\u001b[0m\n\u001b[0;32m-> 3024\u001b[0;31m             \u001b[0mindexer\u001b[0m \u001b[0;34m=\u001b[0m \u001b[0mself\u001b[0m\u001b[0;34m.\u001b[0m\u001b[0mcolumns\u001b[0m\u001b[0;34m.\u001b[0m\u001b[0mget_loc\u001b[0m\u001b[0;34m(\u001b[0m\u001b[0mkey\u001b[0m\u001b[0;34m)\u001b[0m\u001b[0;34m\u001b[0m\u001b[0;34m\u001b[0m\u001b[0m\n\u001b[0m\u001b[1;32m   3025\u001b[0m             \u001b[0;32mif\u001b[0m \u001b[0mis_integer\u001b[0m\u001b[0;34m(\u001b[0m\u001b[0mindexer\u001b[0m\u001b[0;34m)\u001b[0m\u001b[0;34m:\u001b[0m\u001b[0;34m\u001b[0m\u001b[0;34m\u001b[0m\u001b[0m\n\u001b[1;32m   3026\u001b[0m                 \u001b[0mindexer\u001b[0m \u001b[0;34m=\u001b[0m \u001b[0;34m[\u001b[0m\u001b[0mindexer\u001b[0m\u001b[0;34m]\u001b[0m\u001b[0;34m\u001b[0m\u001b[0;34m\u001b[0m\u001b[0m\n",
      "\u001b[0;32m~/anaconda3/envs/clenv/lib/python3.9/site-packages/pandas/core/indexes/base.py\u001b[0m in \u001b[0;36mget_loc\u001b[0;34m(self, key, method, tolerance)\u001b[0m\n\u001b[1;32m   3080\u001b[0m                 \u001b[0;32mreturn\u001b[0m \u001b[0mself\u001b[0m\u001b[0;34m.\u001b[0m\u001b[0m_engine\u001b[0m\u001b[0;34m.\u001b[0m\u001b[0mget_loc\u001b[0m\u001b[0;34m(\u001b[0m\u001b[0mcasted_key\u001b[0m\u001b[0;34m)\u001b[0m\u001b[0;34m\u001b[0m\u001b[0;34m\u001b[0m\u001b[0m\n\u001b[1;32m   3081\u001b[0m             \u001b[0;32mexcept\u001b[0m \u001b[0mKeyError\u001b[0m \u001b[0;32mas\u001b[0m \u001b[0merr\u001b[0m\u001b[0;34m:\u001b[0m\u001b[0;34m\u001b[0m\u001b[0;34m\u001b[0m\u001b[0m\n\u001b[0;32m-> 3082\u001b[0;31m                 \u001b[0;32mraise\u001b[0m \u001b[0mKeyError\u001b[0m\u001b[0;34m(\u001b[0m\u001b[0mkey\u001b[0m\u001b[0;34m)\u001b[0m \u001b[0;32mfrom\u001b[0m \u001b[0merr\u001b[0m\u001b[0;34m\u001b[0m\u001b[0;34m\u001b[0m\u001b[0m\n\u001b[0m\u001b[1;32m   3083\u001b[0m \u001b[0;34m\u001b[0m\u001b[0m\n\u001b[1;32m   3084\u001b[0m         \u001b[0;32mif\u001b[0m \u001b[0mtolerance\u001b[0m \u001b[0;32mis\u001b[0m \u001b[0;32mnot\u001b[0m \u001b[0;32mNone\u001b[0m\u001b[0;34m:\u001b[0m\u001b[0;34m\u001b[0m\u001b[0;34m\u001b[0m\u001b[0m\n",
      "\u001b[0;31mKeyError\u001b[0m: 'Tamara Drasin'"
     ]
    },
    {
     "data": {
      "image/png": "[encoded data removed]",
      "text/plain": [
       "<Figure size 504x216 with 1 Axes>"
      ]
     },
     "metadata": {
      "needs_background": "light"
     },
     "output_type": "display_data"
    }
   ],
   "source": [
    "overall_pearson_r = combined.corr().iloc[0,2]\n",
    "\n",
    "f,ax=plt.subplots(figsize=(7,3))\n",
    "display(combined['Tamara Drasin'].rolling(window=1,center=True).corr(combined['eyes first']))\n",
    "ax.set(xlabel='Time',ylabel='Pearson r')\n",
    "ax.set(title=f\"Overall Pearson r = {np.round(overall_pearson_r,2)}\");"
   ]
  },
  {
   "cell_type": "code",
   "execution_count": null,
   "id": "4ef4b7be",
   "metadata": {},
   "outputs": [],
   "source": []
  },
  {
   "cell_type": "code",
   "execution_count": 203,
   "id": "0c8cf10c",
   "metadata": {},
   "outputs": [
    {
     "name": "stderr",
     "output_type": "stream",
     "text": [
      "  3%|▎         | 27/999 [00:04<02:44,  5.91it/s]"
     ]
    },
    {
     "name": "stdout",
     "output_type": "stream",
     "text": [
      "<Response [400]>\n",
      "<Response [400]>\n",
      "<Response [400]>\n"
     ]
    },
    {
     "name": "stderr",
     "output_type": "stream",
     "text": [
      "\r",
      "  3%|▎         | 29/999 [00:05<03:32,  4.57it/s]"
     ]
    },
    {
     "name": "stdout",
     "output_type": "stream",
     "text": [
      "<Response [400]>\n"
     ]
    },
    {
     "name": "stderr",
     "output_type": "stream",
     "text": [
      "\r",
      "  3%|▎         | 31/999 [00:06<04:04,  3.96it/s]"
     ]
    },
    {
     "name": "stdout",
     "output_type": "stream",
     "text": [
      "<Response [400]>\n"
     ]
    },
    {
     "name": "stderr",
     "output_type": "stream",
     "text": [
      "  4%|▍         | 43/999 [00:09<04:20,  3.67it/s]"
     ]
    },
    {
     "name": "stdout",
     "output_type": "stream",
     "text": [
      "<Response [400]>\n"
     ]
    },
    {
     "name": "stderr",
     "output_type": "stream",
     "text": [
      "  9%|▉         | 90/999 [00:28<07:55,  1.91it/s]"
     ]
    },
    {
     "name": "stdout",
     "output_type": "stream",
     "text": [
      "<Response [400]>\n"
     ]
    },
    {
     "name": "stderr",
     "output_type": "stream",
     "text": [
      " 11%|█         | 111/999 [00:38<08:12,  1.80it/s]"
     ]
    },
    {
     "name": "stdout",
     "output_type": "stream",
     "text": [
      "<Response [400]>\n"
     ]
    },
    {
     "name": "stderr",
     "output_type": "stream",
     "text": [
      "\r",
      " 11%|█▏        | 113/999 [00:39<07:54,  1.87it/s]"
     ]
    },
    {
     "name": "stdout",
     "output_type": "stream",
     "text": [
      "<Response [400]>\n"
     ]
    },
    {
     "name": "stderr",
     "output_type": "stream",
     "text": [
      " 12%|█▏        | 123/999 [00:42<05:07,  2.85it/s]"
     ]
    },
    {
     "name": "stdout",
     "output_type": "stream",
     "text": [
      "<Response [400]>\n"
     ]
    },
    {
     "name": "stderr",
     "output_type": "stream",
     "text": [
      " 13%|█▎        | 131/999 [00:44<03:12,  4.51it/s]"
     ]
    },
    {
     "name": "stdout",
     "output_type": "stream",
     "text": [
      "<Response [429]>\n",
      "<Response [429]>\n",
      "<Response [429]>\n"
     ]
    },
    {
     "name": "stderr",
     "output_type": "stream",
     "text": [
      " 14%|█▍        | 139/999 [00:44<01:32,  9.27it/s]"
     ]
    },
    {
     "name": "stdout",
     "output_type": "stream",
     "text": [
      "<Response [429]>\n",
      "<Response [429]>\n",
      "<Response [429]>\n",
      "<Response [429]>\n"
     ]
    },
    {
     "name": "stderr",
     "output_type": "stream",
     "text": [
      " 15%|█▍        | 147/999 [00:45<00:55, 15.30it/s]"
     ]
    },
    {
     "name": "stdout",
     "output_type": "stream",
     "text": [
      "<Response [429]>\n",
      "<Response [429]>\n",
      "<Response [429]>\n"
     ]
    },
    {
     "name": "stderr",
     "output_type": "stream",
     "text": [
      "\r",
      " 15%|█▌        | 151/999 [00:45<00:44, 18.90it/s]"
     ]
    },
    {
     "name": "stdout",
     "output_type": "stream",
     "text": [
      "<Response [429]>\n",
      "<Response [429]>\n",
      "<Response [429]>\n",
      "<Response [429]>\n"
     ]
    },
    {
     "name": "stderr",
     "output_type": "stream",
     "text": [
      " 16%|█▌        | 158/999 [00:45<00:42, 19.80it/s]"
     ]
    },
    {
     "name": "stdout",
     "output_type": "stream",
     "text": [
      "<Response [429]>\n",
      "<Response [429]>\n",
      "<Response [429]>\n",
      "<Response [429]>\n"
     ]
    },
    {
     "name": "stderr",
     "output_type": "stream",
     "text": [
      " 16%|█▋        | 164/999 [00:45<00:41, 20.06it/s]"
     ]
    },
    {
     "name": "stdout",
     "output_type": "stream",
     "text": [
      "<Response [429]>\n",
      "<Response [429]>\n",
      "<Response [429]>\n",
      "<Response [429]>\n"
     ]
    },
    {
     "name": "stderr",
     "output_type": "stream",
     "text": [
      " 17%|█▋        | 170/999 [00:46<00:36, 22.77it/s]"
     ]
    },
    {
     "name": "stdout",
     "output_type": "stream",
     "text": [
      "<Response [429]>\n",
      "<Response [429]>\n",
      "<Response [429]>\n",
      "<Response [429]>\n"
     ]
    },
    {
     "name": "stderr",
     "output_type": "stream",
     "text": [
      "\r",
      " 17%|█▋        | 173/999 [00:46<00:39, 20.75it/s]"
     ]
    },
    {
     "name": "stdout",
     "output_type": "stream",
     "text": [
      "<Response [429]>\n",
      "<Response [429]>\n",
      "<Response [429]>\n",
      "<Response [429]>\n"
     ]
    },
    {
     "name": "stderr",
     "output_type": "stream",
     "text": [
      " 18%|█▊        | 180/999 [00:46<00:34, 24.01it/s]"
     ]
    },
    {
     "name": "stdout",
     "output_type": "stream",
     "text": [
      "<Response [429]>\n",
      "<Response [429]>\n",
      "<Response [429]>\n",
      "<Response [429]>\n"
     ]
    },
    {
     "name": "stderr",
     "output_type": "stream",
     "text": [
      " 19%|█▊        | 186/999 [00:46<00:35, 23.17it/s]"
     ]
    },
    {
     "name": "stdout",
     "output_type": "stream",
     "text": [
      "<Response [429]>\n",
      "<Response [429]>\n",
      "<Response [429]>\n"
     ]
    },
    {
     "name": "stderr",
     "output_type": "stream",
     "text": [
      "\r",
      " 19%|█▉        | 189/999 [00:46<00:39, 20.33it/s]"
     ]
    },
    {
     "name": "stdout",
     "output_type": "stream",
     "text": [
      "<Response [429]>\n",
      "<Response [429]>\n",
      "<Response [429]>\n",
      "<Response [429]>\n"
     ]
    },
    {
     "name": "stderr",
     "output_type": "stream",
     "text": [
      " 20%|█▉        | 197/999 [00:47<00:30, 26.44it/s]"
     ]
    },
    {
     "name": "stdout",
     "output_type": "stream",
     "text": [
      "<Response [429]>\n",
      "<Response [429]>\n",
      "<Response [429]>\n",
      "<Response [429]>\n"
     ]
    },
    {
     "name": "stderr",
     "output_type": "stream",
     "text": [
      " 20%|██        | 204/999 [00:47<00:30, 25.97it/s]"
     ]
    },
    {
     "name": "stdout",
     "output_type": "stream",
     "text": [
      "<Response [429]>\n",
      "<Response [429]>\n",
      "<Response [429]>\n",
      "<Response [429]>\n"
     ]
    },
    {
     "name": "stderr",
     "output_type": "stream",
     "text": [
      " 21%|██▏       | 213/999 [00:47<00:28, 27.46it/s]"
     ]
    },
    {
     "name": "stdout",
     "output_type": "stream",
     "text": [
      "<Response [429]>\n",
      "<Response [429]>\n",
      "<Response [429]>\n",
      "<Response [429]>\n"
     ]
    },
    {
     "name": "stderr",
     "output_type": "stream",
     "text": [
      " 22%|██▏       | 220/999 [00:48<00:28, 26.98it/s]"
     ]
    },
    {
     "name": "stdout",
     "output_type": "stream",
     "text": [
      "<Response [429]>\n",
      "<Response [429]>\n",
      "<Response [429]>\n",
      "<Response [429]>\n"
     ]
    },
    {
     "name": "stderr",
     "output_type": "stream",
     "text": [
      "\r",
      " 22%|██▏       | 223/999 [00:48<00:31, 24.84it/s]"
     ]
    },
    {
     "name": "stdout",
     "output_type": "stream",
     "text": [
      "<Response [429]>\n",
      "<Response [429]>\n",
      "<Response [429]>\n"
     ]
    },
    {
     "name": "stderr",
     "output_type": "stream",
     "text": [
      " 23%|██▎       | 232/999 [00:48<00:25, 29.91it/s]"
     ]
    },
    {
     "name": "stdout",
     "output_type": "stream",
     "text": [
      "<Response [429]>\n",
      "<Response [429]>\n",
      "<Response [429]>\n"
     ]
    },
    {
     "name": "stderr",
     "output_type": "stream",
     "text": [
      " 24%|██▍       | 238/999 [00:48<00:28, 26.55it/s]"
     ]
    },
    {
     "name": "stdout",
     "output_type": "stream",
     "text": [
      "<Response [429]>\n",
      "<Response [429]>\n",
      "<Response [429]>\n",
      "<Response [429]>\n"
     ]
    },
    {
     "name": "stderr",
     "output_type": "stream",
     "text": [
      " 25%|██▍       | 248/999 [00:48<00:23, 32.58it/s]"
     ]
    },
    {
     "name": "stdout",
     "output_type": "stream",
     "text": [
      "<Response [429]>\n",
      "<Response [429]>\n",
      "<Response [429]>\n"
     ]
    },
    {
     "name": "stderr",
     "output_type": "stream",
     "text": [
      "\r",
      " 25%|██▌       | 253/999 [00:49<00:22, 33.69it/s]"
     ]
    },
    {
     "name": "stdout",
     "output_type": "stream",
     "text": [
      "<Response [429]>\n",
      "<Response [429]>\n",
      "<Response [429]>\n"
     ]
    },
    {
     "name": "stderr",
     "output_type": "stream",
     "text": [
      " 27%|██▋       | 267/999 [00:49<00:17, 41.25it/s]"
     ]
    },
    {
     "name": "stdout",
     "output_type": "stream",
     "text": [
      "<Response [429]>\n",
      "<Response [429]>\n",
      "<Response [429]>\n"
     ]
    },
    {
     "name": "stderr",
     "output_type": "stream",
     "text": [
      "\r",
      " 27%|██▋       | 272/999 [00:49<00:20, 35.10it/s]"
     ]
    },
    {
     "name": "stdout",
     "output_type": "stream",
     "text": [
      "<Response [429]>\n",
      "<Response [429]>\n",
      "<Response [429]>\n",
      "<Response [429]>\n"
     ]
    },
    {
     "name": "stderr",
     "output_type": "stream",
     "text": [
      " 28%|██▊       | 280/999 [00:49<00:21, 33.44it/s]"
     ]
    },
    {
     "name": "stdout",
     "output_type": "stream",
     "text": [
      "<Response [429]>\n",
      "<Response [429]>\n",
      "<Response [429]>\n",
      "<Response [429]>\n"
     ]
    },
    {
     "name": "stderr",
     "output_type": "stream",
     "text": [
      "\r",
      " 28%|██▊       | 284/999 [00:50<00:28, 25.17it/s]"
     ]
    },
    {
     "name": "stdout",
     "output_type": "stream",
     "text": [
      "<Response [429]>\n",
      "<Response [429]>\n",
      "<Response [429]>\n"
     ]
    },
    {
     "name": "stderr",
     "output_type": "stream",
     "text": [
      "\r",
      " 29%|██▊       | 286/999 [00:50<02:05,  5.70it/s]"
     ]
    },
    {
     "name": "stdout",
     "output_type": "stream",
     "text": [
      "<Response [429]>\n"
     ]
    },
    {
     "name": "stderr",
     "output_type": "stream",
     "text": [
      "\n"
     ]
    },
    {
     "ename": "KeyboardInterrupt",
     "evalue": "",
     "output_type": "error",
     "traceback": [
      "\u001b[0;31m---------------------------------------------------------------------------\u001b[0m",
      "\u001b[0;31mKeyboardInterrupt\u001b[0m                         Traceback (most recent call last)",
      "\u001b[0;32m<ipython-input-203-c657902dc8a8>\u001b[0m in \u001b[0;36m<module>\u001b[0;34m\u001b[0m\n\u001b[1;32m     18\u001b[0m \u001b[0;34m\u001b[0m\u001b[0m\n\u001b[1;32m     19\u001b[0m     \u001b[0;32mreturn\u001b[0m \u001b[0mtexts\u001b[0m\u001b[0;34m,\u001b[0m \u001b[0mcorrelations\u001b[0m\u001b[0;34m\u001b[0m\u001b[0;34m\u001b[0m\u001b[0m\n\u001b[0;32m---> 20\u001b[0;31m \u001b[0mt\u001b[0m\u001b[0;34m,\u001b[0m \u001b[0mc\u001b[0m\u001b[0;34m,\u001b[0m \u001b[0;34m=\u001b[0m \u001b[0mget_maximum_correlations\u001b[0m\u001b[0;34m(\u001b[0m\u001b[0mlist_of_q\u001b[0m\u001b[0;34m)\u001b[0m\u001b[0;34m\u001b[0m\u001b[0;34m\u001b[0m\u001b[0m\n\u001b[0m\u001b[1;32m     21\u001b[0m \u001b[0;34m\u001b[0m\u001b[0m\n\u001b[1;32m     22\u001b[0m \u001b[0mc\u001b[0m\u001b[0;34m\u001b[0m\u001b[0;34m\u001b[0m\u001b[0m\n",
      "\u001b[0;32m<ipython-input-203-c657902dc8a8>\u001b[0m in \u001b[0;36mget_maximum_correlations\u001b[0;34m(list_of_questions)\u001b[0m\n\u001b[1;32m      3\u001b[0m     \u001b[0mcorrelations\u001b[0m \u001b[0;34m=\u001b[0m \u001b[0;34m[\u001b[0m\u001b[0;34m]\u001b[0m\u001b[0;34m\u001b[0m\u001b[0;34m\u001b[0m\u001b[0m\n\u001b[1;32m      4\u001b[0m     \u001b[0;32mfor\u001b[0m \u001b[0mquestion\u001b[0m \u001b[0;32min\u001b[0m \u001b[0mtqdm\u001b[0m\u001b[0;34m(\u001b[0m\u001b[0mlist_of_questions\u001b[0m\u001b[0;34m)\u001b[0m\u001b[0;34m:\u001b[0m\u001b[0;34m\u001b[0m\u001b[0;34m\u001b[0m\u001b[0m\n\u001b[0;32m----> 5\u001b[0;31m         \u001b[0mquestion\u001b[0m \u001b[0;34m=\u001b[0m \u001b[0mjson\u001b[0m\u001b[0;34m.\u001b[0m\u001b[0mloads\u001b[0m\u001b[0;34m(\u001b[0m\u001b[0mquestion\u001b[0m\u001b[0;34m)\u001b[0m\u001b[0;34m\u001b[0m\u001b[0;34m\u001b[0m\u001b[0m\n\u001b[0m\u001b[1;32m      6\u001b[0m         \u001b[0mshort_answers\u001b[0m \u001b[0;34m=\u001b[0m \u001b[0mget_short_answers\u001b[0m\u001b[0;34m(\u001b[0m\u001b[0mquestion\u001b[0m\u001b[0;34m)\u001b[0m\u001b[0;34m\u001b[0m\u001b[0;34m\u001b[0m\u001b[0m\n\u001b[1;32m      7\u001b[0m         \u001b[0;32mif\u001b[0m \u001b[0mlen\u001b[0m\u001b[0;34m(\u001b[0m\u001b[0mshort_answers\u001b[0m\u001b[0;34m)\u001b[0m \u001b[0;34m!=\u001b[0m \u001b[0;36m0\u001b[0m\u001b[0;34m:\u001b[0m\u001b[0;34m\u001b[0m\u001b[0;34m\u001b[0m\u001b[0m\n",
      "\u001b[0;32m~/anaconda3/envs/clenv/lib/python3.9/json/__init__.py\u001b[0m in \u001b[0;36mloads\u001b[0;34m(s, cls, object_hook, parse_float, parse_int, parse_constant, object_pairs_hook, **kw)\u001b[0m\n\u001b[1;32m    344\u001b[0m             \u001b[0mparse_int\u001b[0m \u001b[0;32mis\u001b[0m \u001b[0;32mNone\u001b[0m \u001b[0;32mand\u001b[0m \u001b[0mparse_float\u001b[0m \u001b[0;32mis\u001b[0m \u001b[0;32mNone\u001b[0m \u001b[0;32mand\u001b[0m\u001b[0;34m\u001b[0m\u001b[0;34m\u001b[0m\u001b[0m\n\u001b[1;32m    345\u001b[0m             parse_constant is None and object_pairs_hook is None and not kw):\n\u001b[0;32m--> 346\u001b[0;31m         \u001b[0;32mreturn\u001b[0m \u001b[0m_default_decoder\u001b[0m\u001b[0;34m.\u001b[0m\u001b[0mdecode\u001b[0m\u001b[0;34m(\u001b[0m\u001b[0ms\u001b[0m\u001b[0;34m)\u001b[0m\u001b[0;34m\u001b[0m\u001b[0;34m\u001b[0m\u001b[0m\n\u001b[0m\u001b[1;32m    347\u001b[0m     \u001b[0;32mif\u001b[0m \u001b[0mcls\u001b[0m \u001b[0;32mis\u001b[0m \u001b[0;32mNone\u001b[0m\u001b[0;34m:\u001b[0m\u001b[0;34m\u001b[0m\u001b[0;34m\u001b[0m\u001b[0m\n\u001b[1;32m    348\u001b[0m         \u001b[0mcls\u001b[0m \u001b[0;34m=\u001b[0m \u001b[0mJSONDecoder\u001b[0m\u001b[0;34m\u001b[0m\u001b[0;34m\u001b[0m\u001b[0m\n",
      "\u001b[0;32m~/anaconda3/envs/clenv/lib/python3.9/json/decoder.py\u001b[0m in \u001b[0;36mdecode\u001b[0;34m(self, s, _w)\u001b[0m\n\u001b[1;32m    335\u001b[0m \u001b[0;34m\u001b[0m\u001b[0m\n\u001b[1;32m    336\u001b[0m         \"\"\"\n\u001b[0;32m--> 337\u001b[0;31m         \u001b[0mobj\u001b[0m\u001b[0;34m,\u001b[0m \u001b[0mend\u001b[0m \u001b[0;34m=\u001b[0m \u001b[0mself\u001b[0m\u001b[0;34m.\u001b[0m\u001b[0mraw_decode\u001b[0m\u001b[0;34m(\u001b[0m\u001b[0ms\u001b[0m\u001b[0;34m,\u001b[0m \u001b[0midx\u001b[0m\u001b[0;34m=\u001b[0m\u001b[0m_w\u001b[0m\u001b[0;34m(\u001b[0m\u001b[0ms\u001b[0m\u001b[0;34m,\u001b[0m \u001b[0;36m0\u001b[0m\u001b[0;34m)\u001b[0m\u001b[0;34m.\u001b[0m\u001b[0mend\u001b[0m\u001b[0;34m(\u001b[0m\u001b[0;34m)\u001b[0m\u001b[0;34m)\u001b[0m\u001b[0;34m\u001b[0m\u001b[0;34m\u001b[0m\u001b[0m\n\u001b[0m\u001b[1;32m    338\u001b[0m         \u001b[0mend\u001b[0m \u001b[0;34m=\u001b[0m \u001b[0m_w\u001b[0m\u001b[0;34m(\u001b[0m\u001b[0ms\u001b[0m\u001b[0;34m,\u001b[0m \u001b[0mend\u001b[0m\u001b[0;34m)\u001b[0m\u001b[0;34m.\u001b[0m\u001b[0mend\u001b[0m\u001b[0;34m(\u001b[0m\u001b[0;34m)\u001b[0m\u001b[0;34m\u001b[0m\u001b[0;34m\u001b[0m\u001b[0m\n\u001b[1;32m    339\u001b[0m         \u001b[0;32mif\u001b[0m \u001b[0mend\u001b[0m \u001b[0;34m!=\u001b[0m \u001b[0mlen\u001b[0m\u001b[0;34m(\u001b[0m\u001b[0ms\u001b[0m\u001b[0;34m)\u001b[0m\u001b[0;34m:\u001b[0m\u001b[0;34m\u001b[0m\u001b[0;34m\u001b[0m\u001b[0m\n",
      "\u001b[0;32m~/anaconda3/envs/clenv/lib/python3.9/json/decoder.py\u001b[0m in \u001b[0;36mraw_decode\u001b[0;34m(self, s, idx)\u001b[0m\n\u001b[1;32m    351\u001b[0m         \"\"\"\n\u001b[1;32m    352\u001b[0m         \u001b[0;32mtry\u001b[0m\u001b[0;34m:\u001b[0m\u001b[0;34m\u001b[0m\u001b[0;34m\u001b[0m\u001b[0m\n\u001b[0;32m--> 353\u001b[0;31m             \u001b[0mobj\u001b[0m\u001b[0;34m,\u001b[0m \u001b[0mend\u001b[0m \u001b[0;34m=\u001b[0m \u001b[0mself\u001b[0m\u001b[0;34m.\u001b[0m\u001b[0mscan_once\u001b[0m\u001b[0;34m(\u001b[0m\u001b[0ms\u001b[0m\u001b[0;34m,\u001b[0m \u001b[0midx\u001b[0m\u001b[0;34m)\u001b[0m\u001b[0;34m\u001b[0m\u001b[0;34m\u001b[0m\u001b[0m\n\u001b[0m\u001b[1;32m    354\u001b[0m         \u001b[0;32mexcept\u001b[0m \u001b[0mStopIteration\u001b[0m \u001b[0;32mas\u001b[0m \u001b[0merr\u001b[0m\u001b[0;34m:\u001b[0m\u001b[0;34m\u001b[0m\u001b[0;34m\u001b[0m\u001b[0m\n\u001b[1;32m    355\u001b[0m             \u001b[0;32mraise\u001b[0m \u001b[0mJSONDecodeError\u001b[0m\u001b[0;34m(\u001b[0m\u001b[0;34m\"Expecting value\"\u001b[0m\u001b[0;34m,\u001b[0m \u001b[0ms\u001b[0m\u001b[0;34m,\u001b[0m \u001b[0merr\u001b[0m\u001b[0;34m.\u001b[0m\u001b[0mvalue\u001b[0m\u001b[0;34m)\u001b[0m \u001b[0;32mfrom\u001b[0m \u001b[0;32mNone\u001b[0m\u001b[0;34m\u001b[0m\u001b[0;34m\u001b[0m\u001b[0m\n",
      "\u001b[0;31mKeyboardInterrupt\u001b[0m: "
     ]
    }
   ],
   "source": [
    "def get_maximum_correlations(list_of_questions):\n",
    "    texts = []\n",
    "    correlations = []\n",
    "    for question in tqdm(list_of_questions):\n",
    "        question = json.loads(question)\n",
    "        short_answers = get_short_answers(question)\n",
    "        if len(short_answers) != 0:\n",
    "            question_trend, answer_trend = get_trend(question, normalize=True)\n",
    "            \n",
    "            if not answer_trend.empty and not question_trend.empty:\n",
    "                #display(answer_trend)\n",
    "                combined = question_trend.merge(answer_trend, left_on='date', right_on='date')\n",
    "               # display(combined.corr())\n",
    "                short_answer_corr = combined.corr().iloc[:-len(short_answers),-len(short_answers):]\n",
    "                max_corr = np.nanmax(short_answer_corr)\n",
    "                texts.append(question['question_text'])\n",
    "                correlations.append(max_corr)\n",
    "            \n",
    "    return texts, correlations\n",
    "t, c, = get_maximum_correlations(list_of_q)\n",
    "\n",
    "c\n",
    "    \n",
    "    "
   ]
  },
  {
   "cell_type": "code",
   "execution_count": 208,
   "id": "b1322a63",
   "metadata": {},
   "outputs": [
    {
     "data": {
      "text/html": [
       "<div>\n",
       "<style scoped>\n",
       "    .dataframe tbody tr th:only-of-type {\n",
       "        vertical-align: middle;\n",
       "    }\n",
       "\n",
       "    .dataframe tbody tr th {\n",
       "        vertical-align: top;\n",
       "    }\n",
       "\n",
       "    .dataframe thead th {\n",
       "        text-align: right;\n",
       "    }\n",
       "</style>\n",
       "<table border=\"1\" class=\"dataframe\">\n",
       "  <thead>\n",
       "    <tr style=\"text-align: right;\">\n",
       "      <th></th>\n",
       "      <th>Question</th>\n",
       "      <th>Max Correlation</th>\n",
       "    </tr>\n",
       "  </thead>\n",
       "  <tbody>\n",
       "    <tr>\n",
       "      <th>20</th>\n",
       "      <td>when did the song here comes the boom come out</td>\n",
       "      <td>-0.414945</td>\n",
       "    </tr>\n",
       "    <tr>\n",
       "      <th>4</th>\n",
       "      <td>with a land area of 54 314 square miles where ...</td>\n",
       "      <td>-0.212485</td>\n",
       "    </tr>\n",
       "    <tr>\n",
       "      <th>15</th>\n",
       "      <td>where was the movie strangers prey at night fi...</td>\n",
       "      <td>-0.117965</td>\n",
       "    </tr>\n",
       "    <tr>\n",
       "      <th>1</th>\n",
       "      <td>ethiopia flight 961 crashes in to the sea</td>\n",
       "      <td>-0.112702</td>\n",
       "    </tr>\n",
       "    <tr>\n",
       "      <th>19</th>\n",
       "      <td>who played john clark sr on nypd blue</td>\n",
       "      <td>-0.102772</td>\n",
       "    </tr>\n",
       "    <tr>\n",
       "      <th>9</th>\n",
       "      <td>how did early humans make use of stones during...</td>\n",
       "      <td>-0.082544</td>\n",
       "    </tr>\n",
       "    <tr>\n",
       "      <th>8</th>\n",
       "      <td>who did the dominican republic gain its indepe...</td>\n",
       "      <td>-0.062940</td>\n",
       "    </tr>\n",
       "    <tr>\n",
       "      <th>30</th>\n",
       "      <td>creating appropriation bills falls under which...</td>\n",
       "      <td>0.000705</td>\n",
       "    </tr>\n",
       "    <tr>\n",
       "      <th>7</th>\n",
       "      <td>where does the water come from to fill lake eyre</td>\n",
       "      <td>0.007715</td>\n",
       "    </tr>\n",
       "    <tr>\n",
       "      <th>24</th>\n",
       "      <td>who played amy grant i i can only imagine</td>\n",
       "      <td>0.009878</td>\n",
       "    </tr>\n",
       "    <tr>\n",
       "      <th>11</th>\n",
       "      <td>star wars the clone wars season 3 episode 1</td>\n",
       "      <td>0.012450</td>\n",
       "    </tr>\n",
       "    <tr>\n",
       "      <th>18</th>\n",
       "      <td>when did beryl markham fly across the atlantic</td>\n",
       "      <td>0.091861</td>\n",
       "    </tr>\n",
       "    <tr>\n",
       "      <th>14</th>\n",
       "      <td>who has the most gold medals in the winter oly...</td>\n",
       "      <td>0.140710</td>\n",
       "    </tr>\n",
       "    <tr>\n",
       "      <th>29</th>\n",
       "      <td>what is the purpose of the muscles that line t...</td>\n",
       "      <td>0.173291</td>\n",
       "    </tr>\n",
       "    <tr>\n",
       "      <th>27</th>\n",
       "      <td>when did korea separate into north and south</td>\n",
       "      <td>0.189492</td>\n",
       "    </tr>\n",
       "    <tr>\n",
       "      <th>16</th>\n",
       "      <td>what order do the captain america movies go in</td>\n",
       "      <td>0.215389</td>\n",
       "    </tr>\n",
       "    <tr>\n",
       "      <th>13</th>\n",
       "      <td>who won the champions league final in 2016</td>\n",
       "      <td>0.252573</td>\n",
       "    </tr>\n",
       "    <tr>\n",
       "      <th>5</th>\n",
       "      <td>who plays charles on have and have nots</td>\n",
       "      <td>0.257020</td>\n",
       "    </tr>\n",
       "    <tr>\n",
       "      <th>3</th>\n",
       "      <td>who scored the most points in their nba career</td>\n",
       "      <td>0.274636</td>\n",
       "    </tr>\n",
       "    <tr>\n",
       "      <th>6</th>\n",
       "      <td>when did the east india company take control o...</td>\n",
       "      <td>0.288024</td>\n",
       "    </tr>\n",
       "    <tr>\n",
       "      <th>2</th>\n",
       "      <td>who does the voice of ash in sing</td>\n",
       "      <td>0.298267</td>\n",
       "    </tr>\n",
       "    <tr>\n",
       "      <th>28</th>\n",
       "      <td>who discovered the atom and in what year</td>\n",
       "      <td>0.324684</td>\n",
       "    </tr>\n",
       "    <tr>\n",
       "      <th>17</th>\n",
       "      <td>who dies in season 2 of the originals</td>\n",
       "      <td>0.459208</td>\n",
       "    </tr>\n",
       "    <tr>\n",
       "      <th>23</th>\n",
       "      <td>who does brant daugherty play in pretty little...</td>\n",
       "      <td>0.639100</td>\n",
       "    </tr>\n",
       "    <tr>\n",
       "      <th>26</th>\n",
       "      <td>when did under the cork tree come out</td>\n",
       "      <td>0.648404</td>\n",
       "    </tr>\n",
       "    <tr>\n",
       "      <th>12</th>\n",
       "      <td>what part of brain is responsible for complex ...</td>\n",
       "      <td>0.689459</td>\n",
       "    </tr>\n",
       "    <tr>\n",
       "      <th>0</th>\n",
       "      <td>how many countries does cadbury sell its products</td>\n",
       "      <td>0.703853</td>\n",
       "    </tr>\n",
       "    <tr>\n",
       "      <th>22</th>\n",
       "      <td>who wrote most of the declaration of independance</td>\n",
       "      <td>0.704448</td>\n",
       "    </tr>\n",
       "    <tr>\n",
       "      <th>10</th>\n",
       "      <td>who wrote the text for jeanie with the light b...</td>\n",
       "      <td>0.740628</td>\n",
       "    </tr>\n",
       "    <tr>\n",
       "      <th>25</th>\n",
       "      <td>who played the villain in tiger zinda hai</td>\n",
       "      <td>0.916760</td>\n",
       "    </tr>\n",
       "    <tr>\n",
       "      <th>21</th>\n",
       "      <td>does archie end up with betty or veronica in r...</td>\n",
       "      <td>0.999415</td>\n",
       "    </tr>\n",
       "  </tbody>\n",
       "</table>\n",
       "</div>"
      ],
      "text/plain": [
       "                                             Question  Max Correlation\n",
       "20     when did the song here comes the boom come out        -0.414945\n",
       "4   with a land area of 54 314 square miles where ...        -0.212485\n",
       "15  where was the movie strangers prey at night fi...        -0.117965\n",
       "1           ethiopia flight 961 crashes in to the sea        -0.112702\n",
       "19              who played john clark sr on nypd blue        -0.102772\n",
       "9   how did early humans make use of stones during...        -0.082544\n",
       "8   who did the dominican republic gain its indepe...        -0.062940\n",
       "30  creating appropriation bills falls under which...         0.000705\n",
       "7    where does the water come from to fill lake eyre         0.007715\n",
       "24          who played amy grant i i can only imagine         0.009878\n",
       "11        star wars the clone wars season 3 episode 1         0.012450\n",
       "18     when did beryl markham fly across the atlantic         0.091861\n",
       "14  who has the most gold medals in the winter oly...         0.140710\n",
       "29  what is the purpose of the muscles that line t...         0.173291\n",
       "27       when did korea separate into north and south         0.189492\n",
       "16     what order do the captain america movies go in         0.215389\n",
       "13         who won the champions league final in 2016         0.252573\n",
       "5             who plays charles on have and have nots         0.257020\n",
       "3      who scored the most points in their nba career         0.274636\n",
       "6   when did the east india company take control o...         0.288024\n",
       "2                   who does the voice of ash in sing         0.298267\n",
       "28           who discovered the atom and in what year         0.324684\n",
       "17              who dies in season 2 of the originals         0.459208\n",
       "23  who does brant daugherty play in pretty little...         0.639100\n",
       "26              when did under the cork tree come out         0.648404\n",
       "12  what part of brain is responsible for complex ...         0.689459\n",
       "0   how many countries does cadbury sell its products         0.703853\n",
       "22  who wrote most of the declaration of independance         0.704448\n",
       "10  who wrote the text for jeanie with the light b...         0.740628\n",
       "25          who played the villain in tiger zinda hai         0.916760\n",
       "21  does archie end up with betty or veronica in r...         0.999415"
      ]
     },
     "execution_count": 208,
     "metadata": {},
     "output_type": "execute_result"
    }
   ],
   "source": [
    "df(list(zip(t,c)),columns=['Question', 'Max Correlation']).sort_values('Max Correlation')"
   ]
  },
  {
   "cell_type": "code",
   "execution_count": null,
   "id": "5ba7d476",
   "metadata": {},
   "outputs": [],
   "source": []
  },
  {
   "cell_type": "code",
   "execution_count": null,
   "id": "f8c50212",
   "metadata": {},
   "outputs": [],
   "source": []
  }
 ],
 "metadata": {
  "kernelspec": {
   "display_name": "Python 3",
   "language": "python",
   "name": "python3"
  },
  "language_info": {
   "codemirror_mode": {
    "name": "ipython",
    "version": 3
   },
   "file_extension": ".py",
   "mimetype": "text/x-python",
   "name": "python",
   "nbconvert_exporter": "python",
   "pygments_lexer": "ipython3",
   "version": "3.9.2"
  }
 },
 "nbformat": 4,
 "nbformat_minor": 5
}
